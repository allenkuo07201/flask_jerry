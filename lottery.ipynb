{
 "cells": [
  {
   "cell_type": "code",
   "execution_count": 1,
   "id": "0008a6fd",
   "metadata": {},
   "outputs": [
    {
     "data": {
      "text/plain": [
       "<Response [200]>"
      ]
     },
     "execution_count": 1,
     "metadata": {},
     "output_type": "execute_result"
    }
   ],
   "source": [
    "import requests\n",
    "from bs4 import BeautifulSoup\n",
    "url = 'https://www.taiwanlottery.com.tw/index_new.aspx'\n",
    "resp = requests.get(url)\n",
    "resp"
   ]
  },
  {
   "cell_type": "code",
   "execution_count": 2,
   "id": "aee1d934",
   "metadata": {
    "collapsed": true
   },
   "outputs": [
    {
     "data": {
      "text/plain": [
       "'\\r\\n<!DOCTYPE html PUBLIC \"-//W3C//DTD XHTML 1.0 Transitional//EN\" \"http://www.w3.org/TR/xhtml1/DTD/xhtml1-transitional.dtd\">\\r\\n<html xmlns=\"http://www.w3.org/1999/xhtml\">\\r\\n<head><meta http-equiv=\"X-UA-Compatible\" content=\"IE=Edge,chrome=1\" /><meta http-equiv=\"Content-Type\" content=\"text/html; charset=UTF-8\" /><title>\\r\\n\\t台灣彩券 taiwanlottery\\r\\n</title>\\r\\n<script type=\"text/javascript\" language=\"JavaScript\" src=\"showlist.js\"  charset=\"big5\"></script>\\r\\n<script type=\"text/javascript\" language=\"JavaScript\" src=\"js/banner.js\" ></script>\\r\\n<link href=\"css1.css?ver=1.0\" rel=\"stylesheet\" type=\"text/css\" />\\r\\n<script language=\"javascript\" type=\"text/javascript\">\\r\\n    function setClass(obj1, obj2, item1, item2) {\\r\\n        obj1.style.display = \\'block\\';\\r\\n        obj2.style.display = \\'none\\';\\r\\n\\r\\n        item1.setAttribute(\"class\", \"left_top_clicked\");\\r\\n        item2.setAttribute(\"class\", \"left_top_unclicked\");\\r\\n    }\\r\\n    </script>\\r\\n\\t<script type=\"text/JavaScript\">\\r\\n\\r\\n<!--\\r\\n\\r\\n\\t    if (navigator.appName.indexOf(\"Internet Explorer\") != -1)\\r\\n\\r\\n\\t        document.onmousedown = noSourceExplorer;\\r\\n\\r\\n\\t    function noSourceExplorer() {\\r\\n\\r\\n\\t        if (event.button == 2 | event.button == 3) {\\r\\n\\r\\n\\t            alert(\"版權所有 台灣彩券\");\\r\\n\\r\\n\\t            //location.replace(\"http://www.taiwanlottery.com.tw/\");\\r\\n\\r\\n\\t        }\\r\\n\\r\\n\\t    }\\r\\n\\r\\n-->\\r\\n\\r\\n</script>\\r\\n<style>\\r\\n\\t.scrollbar{\\r\\n\\t\\tdisplay: block;\\r\\n\\t\\twidth: 100px;\\r\\n\\t\\theight: 100px;\\r\\n\\t\\tposition: fixed;\\r\\n\\t\\ttop: 10%;\\r\\n\\t\\tright: 2%;\\r\\n\\t}\\r\\n\\r\\n\\t.scrollbar img{\\r\\n\\t\\twidth: 100%;\\r\\n\\t\\theight: 100%;\\r\\n\\t}\\r\\n\\t.scrollbar2{\\r\\n\\t\\tdisplay: none;\\r\\n\\t}\\r\\n\\t@media (min-width:375px) and (max-width:1279px) {\\r\\n\\t.scrollbar{\\r\\n\\t\\tdisplay: none;\\r\\n\\t\\t}\\r\\n\\t.scrollbar2{\\r\\n\\t\\tdisplay: block;\\r\\n\\t\\tpadding: 10px;\\r\\n\\t\\tbackground: #FFCC00;\\r\\n\\t\\tcolor: #000000;\\r\\n\\t\\tfont-size: 1.5rem;\\r\\n\\t\\ttext-align: center;\\r\\n\\t\\tposition: fixed;\\r\\n\\t\\tbottom: 0;\\r\\n\\t\\twidth: 1004px;\\r\\n\\t\\tz-index: 2;\\r\\n\\t\\tfont-weight: bold;\\r\\n\\t\\t}\\r\\n\\t}\\r\\n\\r\\n\\t@media (min-width:1920px) {\\r\\n\\t.scrollbar{\\r\\n\\t\\tright: 17%;\\r\\n\\t}\\r\\n\\t}\\r\\n\\t@media (max-width:1919px) {\\r\\n\\t.scrollbar{\\r\\n\\t\\tright: 12.5%;\\r\\n\\t}\\r\\n\\t}\\r\\n\\t@media (max-width:1700px) {\\r\\n\\t.scrollbar{\\r\\n\\t\\tright: 11.5%;\\r\\n\\t}\\r\\n\\t}\\r\\n\\t@media (max-width:1600px) {\\r\\n\\t.scrollbar{\\r\\n\\t\\tright: 10%;\\r\\n\\t}\\r\\n\\t}\\r\\n\\t@media (max-width:1550px) {\\r\\n\\t.scrollbar{\\r\\n\\t\\tright: 7.5%;\\r\\n\\t}\\r\\n\\t}\\r\\n\\t@media (max-width:1450px) {\\r\\n\\t.scrollbar{\\r\\n\\t\\tright: 6%;\\r\\n\\t}\\r\\n\\t}\\r\\n\\t@media (max-width:1400px) {\\r\\n\\t.scrollbar{\\r\\n\\t\\tright: 4%;\\r\\n\\t}\\r\\n\\t}\\r\\n\\t@media (max-width:1350px) {\\r\\n\\t.scrollbar{\\r\\n\\t\\tright: 2%;\\r\\n\\t}\\r\\n\\t}\\r\\n\\t@media (min-width:1280px) and (max-width:1300px) {\\r\\n\\t.scrollbar{\\r\\n\\t\\tright: 0%;\\r\\n\\t}\\r\\n\\t}\\r\\n\\r\\n\\t</style>\\r\\n<!-- Google Tag Manager-->\\r\\n<script>(function(w,d,s,l,i){w[l]=w[l]||[];w[l].push({\\'gtm.start\\':\\r\\nnew Date().getTime(),event:\\'gtm.js\\'});var f=d.getElementsByTagName(s)[0],\\r\\nj=d.createElement(s),dl=l!=\\'dataLayer\\'?\\'&l=\\'+l:\\'\\';j.async=true;j.src=\\r\\n\\'https://www.googletagmanager.com/gtm.js?id=\\'+i+dl;f.parentNode.insertBefore(j,f);\\r\\n})(window,document,\\'script\\',\\'dataLayer\\',\\'GTM-N6HP9ZR\\');</script>\\r\\n<!-- End Google Tag Manager -->\\r\\n\\r\\n\\r\\n</head>\\r\\n<body onLoad=\"showBanner();\">\\r\\n\\r\\n<!-- Google Tag Manager (noscript)-->\\r\\n<noscript><iframe src=\"https://www.googletagmanager.com/ns.html?id=GTM-N6HP9ZR\"\\r\\nheight=\"0\" width=\"0\" style=\"display:none;visibility:hidden\"></iframe></noscript>\\r\\n<!-- End Google Tag Manager (noscript) -->\\r\\n\\r\\n    <form method=\"post\" action=\"./index_new.aspx?aspxerrorpath=%2findex_new2.aspx\" id=\"form1\">\\r\\n<div class=\"aspNetHidden\">\\r\\n<input type=\"hidden\" name=\"__VIEWSTATE\" id=\"__VIEWSTATE\" value=\"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\" />\\r\\n</div>\\r\\n\\r\\n<div class=\"aspNetHidden\">\\r\\n\\r\\n\\t<input type=\"hidden\" name=\"__VIEWSTATEGENERATOR\" id=\"__VIEWSTATEGENERATOR\" value=\"56A5C0AB\" />\\r\\n</div>\\r\\n\\r\\n<div id=\"wrapper_overflow\">\\r\\n<!--  未滿18歲不得購買或兌領彩券  -->\\r\\n\\t<div class=\"scrollbar\">\\r\\n\\t<img src=\"images/scrollbar.png\" alt=\"未滿18歲不得購買或兌領彩券\">\\r\\n\\t</div>\\r\\n<!--  未滿18歲不得購買或兌領彩券  -->\\r\\n\\t\\r\\n  <iframe src=\"header.asp\" width=\"1024\" height=\"68\" scrolling=\"no\"  frameborder=\"0\"> </iframe>\\r\\n  <div id=\"left\">\\r\\n    <!--***************刮刮樂 區塊***************-->\\r\\n    <div id=\"left_top\">\\r\\n                <div id=\"left_top_btn01\" class=\"left_top_clicked\" onclick=\"setClass(left_top_contents01,left_top_contents02,left_top_btn01,left_top_btn02);\">\\r\\n                    熱賣中</div>\\r\\n                <div id=\"left_top_btn02\" class=\"left_top_unclicked\" onclick=\"setClass(left_top_contents02,left_top_contents01,left_top_btn02,left_top_btn01);\">\\r\\n                    預告</div>\\r\\n                <div id=\"left_top_contents01\" class=\"display_block\">\\r\\n                    <iframe src=\"index_onsale.html \" width=\"224px\" height=\"164px\" scrolling=\"yes\" frameborder=\"0\">\\r\\n                    </iframe>\\r\\n                </div>\\r\\n                <div id=\"left_top_contents02\" class=\"display_none\">\\r\\n                    <iframe src=\"index_coming.html\" width=\"224px\" height=\"164px\" scrolling=\"yes\" frameborder=\"0\">\\r\\n                    </iframe>\\r\\n                </div>\\r\\n</div>\\r\\n\\t  \\r\\n<!--***************開獎實況轉播電視圖***************-->\\r\\n <a href=\"https://fnc.ebc.net.tw/TaiwanLottery/\" target=\"_blank\">   <img src=\"images/twl_index_pic_TV.gif\" alt=\"TV\" /></a>\\r\\n\\t  \\t\\r\\n<!--***************  2,000萬超級紅包  ***************-->\\r\\n<!--\\r\\n  <p style=\"font-size:0px;height:2px;overflow:hidden;padding:0px;margin:5px;\"></p>\\r\\n  <a href=\"/instant/instant_games_details_4538.asp\">\\r\\n  <img border=\"0\" src=\"images/twl_index_banner_225.gif  \"></a>\\r\\n<p style=\"font-size:0px;height:2px;overflow:hidden;padding:0px;margin:5px;\"></p>\\r\\n-->\\r\\n<!--***************2020新增區域  第五屆宣導***************-->\\r\\n  <p style=\"font-size:0px;height:2px;overflow:hidden;padding:0px;margin:5px;\"></p>\\r\\n  <a href=\"FifthAgencyPick/FifthAgencyPick_Index.asp\"><img border=\"0\" style=\"width: 259px;height: 88px;\" src=\"images/twl_index_banner_258.jpg\"></a>\\r\\n<p style=\"font-size:0px;height:2px;overflow:hidden;padding:0px;margin:5px;\"></p>\\r\\n\\t  \\r\\n<!--ContentArea 選單Start-->\\r\\n  <!DOCTYPE html PUBLIC \"-//W3C//DTD XHTML 1.0 Transitional//EN\" \"http://www.w3.org/TR/xhtml1/DTD/xhtml1-transitional.dtd\">\\r\\n<html xmlns=\"http://www.w3.org/1999/xhtml\">\\r\\n<head>\\r\\n    <link rel=\"stylesheet\" type=\"text/css\" href=\"menu.css\" />\\r\\n\\t<style>\\r\\n\\t\\t#nav .has_sub span:hover {\\r\\n\\t\\t\\tcolor: #CC0000;\\r\\n\\t\\t\\t}\\r\\n\\t</style>\\r\\n</head>\\r\\n<body>\\r\\n    <div id=\"nav\">\\r\\n        <ul>\\r\\n            <li class=\"has_sub\"><a href=\"about/tlc.asp\">關於台灣彩券</a>\\r\\n                <ul>\\r\\n                    <li><a href=\"about/tlc.asp\">認識台灣彩券</a></li>\\r\\n                    \\r\\n                    <div class=\"dotted00_2\">\\r\\n                    </div>\\r\\n                    \\r\\n                    <li><a href=\"about/lottery.asp\">認識公益彩券</a></li>\\r\\n                    \\r\\n                    <div class=\"dotted00_2\">\\r\\n                    </div>\\r\\n                    \\r\\n\\t\\t\\t\\t\\t<li><a href=\"about/CSR.asp\">企業社會責任</a></li>\\r\\n                </ul>\\r\\n            </li>\\r\\n            \\r\\n            <div class=\"dotted00\">\\r\\n            </div>\\r\\n            \\r\\n            <li class=\"has_sub\"><a href=\"SuperLotto638/index.asp\">威力彩</a>\\r\\n                <ul>\\r\\n                    <li class=\"img_logo01\"></li>\\r\\n                    \\r\\n                    <div class=\"dotted00_2\">\\r\\n                    </div>\\r\\n                    \\r\\n                    <li><a href=\"SuperLotto638/index.asp\">遊戲介紹</a></li>\\r\\n                    \\r\\n                    <div class=\"dotted00_2\">\\r\\n                    </div>\\r\\n                    \\r\\n                    <li><a href=\"lotto/superlotto638/history.aspx\">各期獎號與開獎結果</a></li>\\r\\n                    \\r\\n                    <div class=\"dotted00_2\">\\r\\n                    </div>\\r\\n                    \\r\\n                    <li><a href=\"/Lotto/se/store.aspx?TYPE=SL638\">頭獎商店</a></li>\\r\\n                    \\r\\n                    <div class=\"dotted00_2\">\\r\\n                    </div>\\r\\n                    \\r\\n                    <li><a href=\"SuperLotto638/schedule.asp\">開獎時間</a></li>\\r\\n                    \\r\\n                    <div class=\"dotted00_2\">\\r\\n                    </div>\\r\\n                    \\r\\n                    <li><a href=\"Info/number/frequency.aspx?GAME=SL638\">冷熱門球號</a></li>\\r\\n                </ul>\\r\\n            </li>\\r\\n            \\r\\n            <div class=\"dotted00\">\\r\\n            </div>\\r\\n            \\r\\n            <li class=\"has_sub\"><a href=\"Lotto649/index.asp\">大樂透</a>\\r\\n                <ul>\\r\\n                    <li class=\"img_logo02\"></li>\\r\\n                    \\r\\n                    <div class=\"dotted00_2\">\\r\\n                    </div>\\r\\n                    \\r\\n                    <li><a href=\"Lotto649/index.asp\">遊戲介紹</a></li>\\r\\n                    \\r\\n                    <div class=\"dotted00_2\">\\r\\n                    </div>\\r\\n                    \\r\\n                    <li><a href=\"lotto/Lotto649/history.aspx\">各期獎號與開獎結果</a></li>\\r\\n                    \\r\\n                    <div class=\"dotted00_2\">\\r\\n                    </div>\\r\\n                    \\r\\n                    <li><a href=\"Lotto/se/store.aspx?TYPE=649\">頭獎商店</a></li>\\r\\n                    \\r\\n                    <div class=\"dotted00_2\">\\r\\n                    </div>\\r\\n                    \\r\\n                    <li><a href=\"Lotto649/schedule.asp\">開獎時間</a></li>\\r\\n                    \\r\\n                    <div class=\"dotted00_2\">\\r\\n                    </div>\\r\\n                    \\r\\n                    <li><a href=\"Info/number/frequency_649.aspx?GAME=649\">冷熱門球號</a></li>\\r\\n                </ul>\\r\\n            </li>\\r\\n\\t\\t\\t <!--div class=\"dotted00\">\\r\\n            </div>\\r\\n            <li class=\"has_sub\"><a href=\"#\" onclick=\"window.parent.location.href=\\'Lotto740/index.asp\\';\">\\r\\n                大福彩</a>\\r\\n                <ul>\\r\\n                    <li class=\"img_logo11\"></li>\\r\\n                    <div class=\"dotted00_2\">\\r\\n                    </div>\\r\\n                    <li><a href=\"#\" onclick=\"window.parent.location.href=\\'Lotto740/index.asp\\';\">\\r\\n                        遊戲介紹</a></li><div class=\"dotted00_2\">\\r\\n                        </div>\\r\\n                    <li><a href=\"#\" onclick=\"window.parent.location.href=\\'lotto/Lotto740/history.aspx\\';\">\\r\\n                        各期獎號與開獎結果</a></li><div class=\"dotted00_2\">\\r\\n                        </div>\\r\\n                    <li><a href=\"#\" onclick=\"window.parent.location.href=\\'Lotto/se/store.aspx?TYPE=740\\';\">頭獎商店</a></li><div\\r\\n                        class=\"dotted00_2\">\\r\\n                    </div>\\r\\n                    <li><a href=\"#\" onclick=\"window.parent.location.href=\\'Lotto740/schedule.asp\\';\">\\r\\n                        開獎時間</a></li><div class=\"dotted00_2\">\\r\\n                        </div>\\r\\n                    <li><a href=\"#\" onclick=\"window.parent.location.href=\\'Info/number/frequency.aspx?GAME=740\\';\">\\r\\n                        冷熱門球號</a></li>\\r\\n                </ul>\\r\\n            </li-->\\r\\n            <div class=\"dotted00\">\\r\\n            </div>\\r\\n            \\r\\n            <li class=\"has_sub\"><a href=\"DailyCash/index.asp\">今彩539</a>\\r\\n                <ul>\\r\\n                    <li class=\"img_logo03\"></li>\\r\\n                    \\r\\n                    <div class=\"dotted00_2\">\\r\\n                    </div>\\r\\n                    \\r\\n                    <li><a href=\"DailyCash/index.asp\">遊戲介紹</a></li>\\r\\n                    \\r\\n                    <div class=\"dotted00_2\">\\r\\n                    </div>\\r\\n                    \\r\\n                    <li><a href=\"lotto/DailyCash/history.aspx\">各期獎號與開獎結果</a></li>\\r\\n                    \\r\\n                    <div class=\"dotted00_2\">\\r\\n                    </div>\\r\\n                    \\r\\n                    <li><a href=\"Lotto/se/store.aspx?TYPE=539\">頭獎商店</a></li>\\r\\n                    \\r\\n                    <div class=\"dotted00_2\">\\r\\n                    </div>\\r\\n                    \\r\\n                    <li><a href=\"DailyCash/schedule.asp\">開獎時間</a></li>\\r\\n                    \\r\\n                    <div class=\"dotted00_2\">\\r\\n                    </div>\\r\\n                    \\r\\n                    <li><a href=\"Info/number/frequency_539.aspx?GAME=539\">冷熱門球號</a></li>\\r\\n                </ul>\\r\\n            </li>\\r\\n            \\r\\n            <div class=\"dotted00\">\\r\\n            </div>\\r\\n            \\r\\n\\t\\t\\t<li class=\"has_sub\"><a href=\"Lotto1224/index.asp\">雙贏彩</a>\\r\\n                <ul>\\r\\n                    <li class=\"img_logo12\"></li>\\r\\n                    \\r\\n                    <div class=\"dotted00_2\">\\r\\n                    </div>\\r\\n                    \\r\\n                    <li><a href=\"Lotto1224/index.asp\">遊戲介紹</a></li>\\r\\n                    \\r\\n                    <div class=\"dotted00_2\">\\r\\n                    </div>\\r\\n                    \\r\\n                    <li><a href=\"lotto/Lotto1224/history.aspx\">各期獎號與開獎結果</a></li>\\r\\n                    \\r\\n                    <div class=\"dotted00_2\">\\r\\n                    </div>\\r\\n                    \\r\\n                    <li><a href=\"Lotto/se/store.aspx?TYPE=1224\">頭獎商店</a></li>\\r\\n                    \\r\\n                    <div class=\"dotted00_2\">\\r\\n                    </div>\\r\\n                    \\r\\n                    <li><a href=\"Lotto1224/schedule.asp\">開獎時間</a></li>\\r\\n                    \\r\\n                    <div class=\"dotted00_2\">\\r\\n                    </div>\\r\\n                    \\r\\n                    <li><a href=\"Info/number/frequency_1224.aspx?GAME=1224\">冷熱門球號</a></li>\\r\\n                </ul>\\r\\n            </li>\\r\\n            \\r\\n            <div class=\"dotted00\">\\r\\n            </div>\\r\\n            \\r\\n            <li class=\"has_sub\"><a href=\"BINGOBINGO/index.asp\">BINGO BINGO賓果賓果</a>\\r\\n                <ul>\\r\\n                    <li class=\"img_logo04\"></li>\\r\\n                    \\r\\n                    <div class=\"dotted00_2\">\\r\\n                    </div>\\r\\n                    \\r\\n                    <li><a href=\"BINGOBINGO/index.asp\">遊戲介紹</a></li>\\r\\n                    \\r\\n                    <div class=\"dotted00_2\">\\r\\n                    </div>\\r\\n                    \\r\\n                    <li><a href=\"lotto/BINGOBINGO/drawing.aspx\">各期獎號查詢</a></li>\\r\\n                    \\r\\n                    <div class=\"dotted00_2\">\\r\\n                    </div>\\r\\n                    \\r\\n                    <li><a href=\"lotto/BINGOBINGO/history.aspx\">各期獎金分配查詢</a></li>\\r\\n                    \\r\\n                    <div class=\"dotted00_2\">\\r\\n                    </div>\\r\\n                    \\r\\n                    <li><a href=\"Lotto/BINGOBINGO/store.aspx\">10星商店</a></li>\\r\\n                    \\r\\n                    <div class=\"dotted00_2\">\\r\\n                    </div>\\r\\n                    \\r\\n                    <li><a href=\"BINGOBINGO/schedule.asp\">開獎時間</a></li>\\r\\n                    \\r\\n                    <div class=\"dotted00_2\">\\r\\n                    </div>\\r\\n                    \\r\\n                    <li><a href=\"Info/number/frequency_BB.aspx?GAME=BB\">冷熱門球號</a></li>\\r\\n                    \\r\\n                    <div class=\"dotted00_2\">\\r\\n                    </div>\\r\\n                    \\r\\n                    <li><a href=\"lotto/BingoBingo/OEHLStatistic.htm\">猜單雙、猜大小 即時獎號<br>統計</a></li>\\r\\n                </ul>\\r\\n            </li>\\r\\n            \\r\\n            <div class=\"dotted00\">\\r\\n            </div>\\r\\n            \\r\\n            <li class=\"has_sub\"><a href=\"3D/index.asp\">3星彩</a>\\r\\n                <ul>\\r\\n                    <li class=\"img_logo05\"></li>\\r\\n                    \\r\\n                    <div class=\"dotted00_2\">\\r\\n                    </div>\\r\\n                    \\r\\n                    <li><a href=\"3D/index.asp\">遊戲介紹</a></li>\\r\\n                    \\r\\n                    <div class=\"dotted00_2\">\\r\\n                    </div>\\r\\n                    \\r\\n                    <li><a href=\"lotto/3D/history.aspx\">各期獎號與開獎結果</a></li>\\r\\n                    \\r\\n                    <div class=\"dotted00_2\">\\r\\n                    </div>\\r\\n                    \\r\\n                    <li><a href=\"3D/schedule.asp\">開獎時間</a></li>\\r\\n                    \\r\\n                    <div class=\"dotted00_2\">\\r\\n                    </div>\\r\\n                    \\r\\n                    <li><a href=\"Info/number/frequency_3D.aspx?GAME=3D\">冷熱門球號</a></li>\\r\\n                </ul>\\r\\n            </li>\\r\\n            \\r\\n            <div class=\"dotted00\">\\r\\n            </div>\\r\\n            \\r\\n            <li class=\"has_sub\"><a href=\"4D/index.asp\">4星彩</a>\\r\\n                <ul>\\r\\n                    <li class=\"img_logo06\"></li>\\r\\n                    \\r\\n                    <div class=\"dotted00_2\">\\r\\n                    </div>\\r\\n                    \\r\\n                    <li><a href=\"4D/index.asp\">遊戲介紹</a></li>\\r\\n                    \\r\\n                    <div class=\"dotted00_2\">\\r\\n                    </div>\\r\\n                    \\r\\n                    <li><a href=\"lotto/4D/history.aspx\">各期獎號與開獎結果</a></li>\\r\\n                    \\r\\n                    <div class=\"dotted00_2\">\\r\\n                    </div>\\r\\n                    \\r\\n                    <li><a href=\"4D/schedule.asp\">開獎時間</a></li>\\r\\n                    \\r\\n                    <div class=\"dotted00_2\">\\r\\n                    </div>\\r\\n                    \\r\\n                    <li><a href=\"Info/number/frequency_4D.aspx?GAME=4D\">冷熱門球號</a></li>\\r\\n                </ul>\\r\\n            </li>\\r\\n            \\r\\n            <div class=\"dotted00\">\\r\\n            </div>\\r\\n            \\r\\n            <li class=\"has_sub\"><a href=\"38M6/index.asp\">38樂合彩</a>\\r\\n                <ul>\\r\\n                    <li class=\"img_logo07\"></li>\\r\\n                    \\r\\n                    <div class=\"dotted00_2\">\\r\\n                    </div>\\r\\n                    \\r\\n                    <li><a href=\"38M6/index.asp\">遊戲介紹</a></li>\\r\\n                    \\r\\n                    <div class=\"dotted00_2\">\\r\\n                    </div>\\r\\n                    \\r\\n                    <li><a href=\"lotto/38M6/history.aspx\">各期獎號與開獎結果</a></li>\\r\\n                    \\r\\n                    <div class=\"dotted00_2\">\\r\\n                    </div>\\r\\n                    \\r\\n                    <li><a href=\"38M6/schedule.asp\">開獎時間</a></li>\\r\\n                    \\r\\n                    <div class=\"dotted00_2\">\\r\\n                    </div>\\r\\n                    \\r\\n                    <li><a href=\"Info/number/frequency_38M.aspx?GAME=38\">冷熱門球號</a></li>\\r\\n                </ul>\\r\\n            </li>\\r\\n            \\r\\n            <div class=\"dotted00\">\\r\\n            </div>\\r\\n            \\r\\n            <li class=\"has_sub\"><a href=\"49M6/index.asp\">49樂合彩</a>\\r\\n                <ul>\\r\\n                    <li class=\"img_logo08\"></li>\\r\\n                    \\r\\n                    <div class=\"dotted00_2\">\\r\\n                    </div>\\r\\n                    \\r\\n                    <li><a href=\"49M6/index.asp\">遊戲介紹</a></li>\\r\\n                    \\r\\n                    <div class=\"dotted00_2\">\\r\\n                    </div>\\r\\n                    \\r\\n                    <li><a href=\"lotto/49M6/history.aspx\">各期獎號與開獎結果</a></li>\\r\\n                    \\r\\n                    <div class=\"dotted00_2\">\\r\\n                    </div>\\r\\n                    \\r\\n                    <li><a href=\"49M6/schedule.asp\">開獎時間</a></li>\\r\\n                    \\r\\n                    <div class=\"dotted00_2\">\\r\\n                    </div>\\r\\n                    \\r\\n                    <li><a href=\"Info/number/frequency_49M.aspx?GAME=49\">冷熱門球號</a></li>\\r\\n                </ul>\\r\\n            </li>\\r\\n            \\r\\n            <div class=\"dotted00\">\\r\\n            </div>\\r\\n            \\r\\n            <li class=\"has_sub\"><a href=\"39M5/index.asp\">39樂合彩</a>\\r\\n                <ul>\\r\\n                    <li class=\"img_logo09\"></li>\\r\\n                    \\r\\n                    <div class=\"dotted00_2\">\\r\\n                    </div>\\r\\n                    \\r\\n                    <li><a href=\"39M5/index.asp\">遊戲介紹</a></li>\\r\\n                    \\r\\n                    <div class=\"dotted00_2\">\\r\\n                    </div>\\r\\n                    \\r\\n                    <li><a href=\"lotto/39M5/history.aspx\">各期獎號與開獎結果</a></li>\\r\\n                    \\r\\n                    <div class=\"dotted00_2\">\\r\\n                    </div>\\r\\n                    \\r\\n                    <li><a href=\"39M5/schedule.asp\">開獎時間</a></li>\\r\\n                    \\r\\n                    <div class=\"dotted00_2\">\\r\\n                    </div>\\r\\n                    \\r\\n                    <li><a href=\"Info/number/frequency_39M.aspx?GAME=39\">冷熱門球號</a></li>\\r\\n                </ul>\\r\\n            </li>\\r\\n            \\r\\n            <div class=\"dotted00\">\\r\\n            </div>\\r\\n            \\r\\n             <li class=\"has_sub\"><span>「加開獎項」加碼活動專區</span>          \\r\\n                <ul>\\r\\n                    <li><a href=\"/DBF2023/DBF2023.asp\">112年端午加碼活動辦法</a></li>\\r\\n                    \\r\\n\\t\\t\\t\\t\\t<div class=\"dotted00_2\">\\r\\n                    </div>\\r\\n                    \\r\\n\\t\\t\\t\\t\\t <li>各期獎號與開獎結果</a></li>\\r\\n\\t\\t\\t\\r\\n<!---->\\r\\n                    <li class=\"third_sub\"><a href=\"/lotto/AnnualGreatEvent/DragonBoatFestival2023/DragonBoat2023_index.aspx\">\\r\\n                        112年端午加碼</a></li>\\r\\n                    <li class=\"third_sub\"><a href=\"/Lotto/AnnualGreatEvent/BigRedPacket2023/bigred_index_result112.aspx\">\\r\\n                        112年春節加碼</a></li>\\r\\n                     <li class=\"third_sub\"><a href=\"/lotto/AnnualGreatEvent/MoonFestival2022/MoonFestival2022_index.aspx\">\\r\\n                        111年中秋加碼</a></li>\\r\\n\\t\\t\\t\\t\\t <li class=\"third_sub\"><a href=\"/lotto/AnnualGreatEvent/DragonBoatFestival2022/DragonBoat2022_index.aspx\">\\r\\n                        111年端午加碼</a></li>\\r\\n                    <li class=\"third_sub\"><a href=\"/Lotto/AnnualGreatEvent/BigRedPacket2022/bigred_index_result111.aspx\">\\r\\n                        111年春節加碼</a></li>\\r\\n\\t\\t\\t\\t\\t<li class=\"third_sub\"><a href=\"/lotto/AnnualGreatEvent/MoonFestival2021/MoonFestival_index_result110.aspx\">\\r\\n                        110年中秋雙十加碼</a></li>\\r\\n                    <li class=\"third_sub\"><a href=\"/lotto/AnnualGreatEvent/BigRedPacket2021/bigred_index_result110.aspx\">\\r\\n                        110年春節加碼</a></li>\\r\\n                     <li class=\"third_sub\"><a href=\"/lotto/AnnualGreatEvent/MoonFestival2020/MoonFestival2020_index.aspx\">\\r\\n                        109年中秋加碼</a></li>\\r\\n\\t\\t\\t\\t\\t <li class=\"third_sub\"><a href=\"/lotto/AnnualGreatEvent/DragonBoatFestival2020/DragonBoat2020_index.aspx\">\\r\\n                        109年端午加碼</a></li>\\r\\n\\t\\t\\t\\t\\t <li class=\"third_sub\"><a href=\"/lotto/AnnualGreatEvent/BigRedPacket2020/bigred_index109.aspx\">\\r\\n                        109年春節加碼</a></li>\\r\\n\\t\\t\\t\\t     <li class=\"third_sub\"><a href=\"/lotto/AnnualGreatEvent/MoonFestival2019/MoonFestival2019_index.aspx\">\\r\\n                        108年中秋加碼</a></li>\\r\\n\\t\\t\\t\\t\\t <li class=\"third_sub\"><a href=\"/lotto/AnnualGreatEvent/DragonBoatFestival2019/DragonBoat2019_index.aspx\">\\r\\n                        108年端午加碼</a></li>\\r\\n\\t\\t\\t\\t\\t <li class=\"third_sub\"><a href=\"/lotto/AnnualGreatEvent/BigRedPacket2019/bigred_index108.aspx\">\\r\\n                        108年春節加碼</a></li>\\r\\n\\t\\t\\t\\t\\t <li class=\"third_sub\"><a href=\"/lotto/AnnualGreatEvent/MoonFestival2018/MoonFestival_index107.aspx\">\\r\\n                        107年中秋加碼</a></li>\\r\\n\\t\\t\\t\\t     <li class=\"third_sub\"><a href=\"/lotto/AnnualGreatEvent/DragonBoatFestival2018/DragonBoatFestival2018index.aspx\">\\r\\n                        107年端午加碼</a></li>\\r\\n\\t\\t\\t\\t\\t <li class=\"third_sub\"><a href=\"/lotto/AnnualGreatEvent/BigRedPacket2018/bigred_index_result107.aspx\">\\r\\n                        107年春節加碼</a></li>\\r\\n\\t\\t\\t\\t\\t <li class=\"third_sub\"><a href=\"/lotto/AnnualGreatEvent/MoonFestival2017/MoonFestival2017index.aspx\">\\r\\n                        106年中秋加碼</a></li>\\r\\n\\t\\t\\t\\t\\t <li class=\"third_sub\"><a href=\"/lotto/AnnualGreatEvent/DragonBoatFestival2017/bigred_index106.aspx\">\\r\\n                        106年端午加碼</a></li>\\r\\n\\t\\t\\t\\t\\t <li class=\"third_sub\"><a href=\"/lotto/AnnualGreatEvent/BigRedPacket2017/bigred_index_result106.aspx\">\\r\\n                        106年春節加碼</a></li>\\r\\n\\t\\t\\t\\t\\t <li class=\"third_sub\"><a href=\"/lotto/DoubleTen2016/DoubleTen2016index.aspx\">\\r\\n                        105年雙十國慶加碼</a></li>\\r\\n\\t\\t\\t\\t     <li class=\"third_sub\"><a href=\"/lotto/DBF/DragonBoatFestival2016index.aspx\">\\r\\n                        105年端午加碼</a></li>\\r\\n\\t\\t\\t\\t\\t <li class=\"third_sub\"><a href=\"/lotto/AnnualGreatEvent/BigRedPacket2016/bigred_index_result105.aspx\">\\r\\n                        105年春節加碼</a></li>\\r\\n                     <li class=\"third_sub\"><a href=\"/lotto/AnnualGreatEvent/BigRedPacket2015/bigred_index_result.aspx\">\\r\\n                        104年春節加碼</a></li>\\r\\n                     <li class=\"third_sub\"><a href=\"/lotto/AnnualGreatEvent/BigRedPacket2014/bigred_index_result.aspx\">\\r\\n                        103年春節加碼</a></li>\\r\\n                         <!--li><a href=\"#\" onclick=\"window.parent.location.href=\\'http://www.taiwanlottery.com.tw/lotto/AnnualGreatEvent/BigRedPacket2014/bigred_index_result.aspx\\';\">\\r\\n                        各期獎號與開獎結果 </a></li-->\\r\\n\\t\\t\\t\\t\\t\\t\\r\\n                        <div class=\"dotted00_2\">\\r\\n                        </div>\\r\\n                </ul>\\r\\n          </li> \\r\\n    \\r\\n            <div class=\"dotted00\">\\r\\n            </div> \\r\\n    \\r\\n            <li class=\"has_sub\"><a href=\"instant/index.asp\">刮刮樂</a>\\r\\n                <ul>\\r\\n                    <li class=\"img_logo10\"></li>\\r\\n                    \\r\\n                    <div class=\"dotted00_2\">\\r\\n                    </div>\\r\\n                    \\r\\n                    <li><a href=\"instant/index.asp\">刮刮樂介紹</a></li>\\r\\n                    \\r\\n                    <div class=\"dotted00_2\">\\r\\n                    </div>           \\r\\n                    \\r\\n                    <li><a href=\"instant/games.asp\">熱賣中刮刮樂</a></li>\\r\\n                    \\r\\n                    <div class=\"dotted00_2\">\\r\\n                    </div>\\r\\n                    \\r\\n\\t\\t\\t\\t    <li><a href=\"instant/preview.asp\">刮刮樂預告</a></li>\\r\\n                    \\r\\n                    <div class=\"dotted00_2\">\\r\\n                    </div>\\r\\n                    \\r\\n                    <li><a href=\"info/instant/sale.aspx\">刮刮樂銷售資訊</a></li>\\r\\n                </ul>\\r\\n            </li>\\r\\n    \\r\\n            <div class=\"dotted00\">\\r\\n            </div>\\r\\n    \\r\\n            <li class=\"has_sub\"><a href=\"info/news/news.aspx\">新聞及公告</a>\\r\\n                <ul>\\r\\n                    <li><a href=\"info/news/news.aspx\">新聞發佈</a></li>\\r\\n                    \\r\\n                    <div class=\"dotted00_2\">\\r\\n                    </div>\\r\\n                    \\r\\n                    <li><a href=\"info/info/info.aspx\">公告事項</a></li>\\r\\n                </ul>\\r\\n            </li>\\r\\n    \\r\\n            <div class=\"dotted00\">\\r\\n            </div>\\r\\n    \\r\\n            <li class=\"has_sub\"><span>彩券資訊通</span>\\r\\n                <ul class=\"info_lotto_reloc\">\\r\\n                    <li><a href=\"info/lotto/data_SL638.aspx\">威力彩統計資料</a></li>\\r\\n                    \\r\\n                    <div class=\"dotted00_2\">\\r\\n                    </div>\\r\\n                    \\r\\n                    <li><a href=\"info/lotto/data_649.aspx\">大樂透統計資料</a></li>\\r\\n                    \\r\\n                    <div class=\"dotted00_2\">\\r\\n                    </div>\\r\\n                    \\r\\n\\t\\t\\t\\t\\t<!--li><a href=\"#\" onclick=\"window.parent.location.href=\\'info/lotto/data_740.aspx\\';\">大福彩統計資料</a></li>\\r\\n                    \\r\\n                    <div class=\"dotted00_2\">\\r\\n                    </div-->\\r\\n                    \\r\\n                    <li><a href=\"info/lotto/data_539.aspx\">今彩539統計資料</a></li>\\r\\n                    \\r\\n                    <div class=\"dotted00_2\">\\r\\n                    </div>\\r\\n                    \\r\\n\\t\\t\\t\\t\\t<li><a href=\"info/lotto/data_1224.aspx\">雙贏彩統計資料</a></li>\\r\\n                    \\r\\n                    <div class=\"dotted00_2\">\\r\\n                    </div>\\r\\n                    \\r\\n\\t\\t\\t\\t\\t<li><a href=\"info/download_history.asp\">第4屆各期獎號下載</a></li>\\r\\n                    \\r\\n                    <div class=\"dotted00_2\">\\r\\n                    </div> \\r\\n                    \\r\\n\\t\\t\\t\\t\\t<li>第4屆下市遊戲各期獎號</a></li>\\r\\n    \\r\\n                    <li class=\"third_sub\"><a href=\"/Lotto/Lotto740/history.aspx\">\\r\\n                        大福彩</a></li>    \\r\\n    \\r\\n                    <li>96-102年各期獎號</a></li>\\r\\n                    <li class=\"third_sub\"><a href=\"/3th_lotto/SuperLotto638/history.aspx\">\\r\\n                        威力彩</a></li>\\r\\n                    <li class=\"third_sub\"><a href=\"/3th_lotto/lotto649/history.aspx\">\\r\\n                        大樂透</a></li>\\r\\n                    <!--li class=\"third_sub\"><a href=\"/3th_lotto/BingoBingo/drawing.aspx\">\\r\\n                        BINGO BINGO賓果賓果</a></li-->\\r\\n                    <li class=\"third_sub\"><a href=\"/3th_lotto/DailyCash/history.aspx\">\\r\\n                        今彩539</a></li>\\r\\n\\t\\t\\t\\t\\t<li class=\"third_sub\"><a href=\"/3th_lotto/3D/history.aspx\">\\r\\n                        3星彩</a></li>\\r\\n                    <li class=\"third_sub\"><a href=\"/3th_lotto/4D/history.aspx\">\\r\\n                        4星彩</a></li>\\r\\n                    <li class=\"third_sub\"><a href=\"/3th_lotto/38M6/history.aspx\">\\r\\n                        38樂合彩</a></li>\\r\\n                    <li class=\"third_sub\"><a href=\"/3th_lotto/49M6/history.aspx\">\\r\\n                        49樂合彩</a></li>\\r\\n                    <li class=\"third_sub\"><a href=\"/3th_lotto/39M5/history.aspx\">\\r\\n                        39樂合彩</a></li>\\r\\n                    <li class=\"third_sub\"><a href=\"/3th_lotto/AnnualGreatEvent2013/Result_allAnnual2013.aspx\">\\r\\n                        102年「春節大紅包」獎號<br />\\r\\n                        與開獎結果</a></li>\\r\\n                    <li class=\"third_sub\"><a href=\"/3th_lotto/AnnualGreatEvent/result_allAnnual2012.aspx\">\\r\\n                        101年龍年新春加碼「大紅包」<br />\\r\\n                        獎號與開獎結果</a></li>\\r\\n                    <li class=\"third_sub\"><a href=\"/3th_lotto/mega/result_all.aspx\">\\r\\n                        100年「100組百萬獎金」獎號<br />\\r\\n                        與開獎結果</a></li>\\r\\n                    <li class=\"third_sub\"><a href=\"/3th_lotto/TTT/history.aspx\">\\r\\n                        樂線九宮格</a></li>\\r\\n                    <li class=\"third_sub\"><a href=\"http://www.taiwanlottery.com.tw/3th_Lotto/Lotto638/history.aspx\">6/38樂透彩</a></li>\\r\\n\\r\\n                    <div class=\"dotted00_2\">\\r\\n                    </div>\\r\\n\\r\\n\\t\\t\\t\\t\\t<li><a href=\"/3th_lottery_1230/info/instant/sale.aspx\">96-102年刮刮樂銷售資訊</a></li> \\r\\n                </ul>\\r\\n            </li>\\r\\n            <!--/li-->\\r\\n\\r\\n            <div class=\"dotted00\">\\r\\n            </div>\\r\\n\\r\\n            <li class=\"has_sub\"><a href=\"runlottery/runlottery.asp\">開獎專區</a>\\r\\n                <ul>\\r\\n                    <li><a href=\"runlottery/runlottery.asp\">開獎流程</a></li>\\r\\n                    \\r\\n                    <div class=\"dotted00_2\">\\r\\n                    </div>\\r\\n                    \\r\\n                    <li><a href=\"runlottery/schedule.asp\">開獎時間</a></li>\\r\\n                    \\r\\n                    <div class=\"dotted00_2\">\\r\\n                    </div>\\r\\n                    \\r\\n                    <li><a href=\"faq/faq.asp\">開獎問與答</a></li>\\r\\n                    \\r\\n                    <div class=\"dotted00_2\">\\r\\n                    </div>\\r\\n                    \\r\\n                    <li><a href=\"https://www.youtube.com/channel/UCK1Zh_2KvKKFkDBCSYuLjAw\" target=_blank>開獎實況轉播</a></li>\\r\\n                </ul>\\r\\n            </li>\\r\\n            <div class=\"dotted00\">\\r\\n            </div>\\r\\n            <li class=\"has_sub\"><a href=\"/agencyap/login.asp\">經銷商專區</a>\\r\\n                <ul>\\r\\n\\t\\t\\t\\t\\t<!--li><a href=\"/agencyap/financialLogin.aspx\">紓困補助申請</a></li>\\r\\n                    \\r\\n                    <div class=\"dotted00_2\">\\r\\n                    </div>\\r\\n                    \\r\\n                    <li><a href=\"#\" onclick=\"window.parent.location.href=\\'/agencyap/news.asp\\';\">公告事項</a></li>\\r\\n\\r\\n                    <div class=\"dotted00_2\">\\r\\n                    </div-->\\r\\n                    \\r\\n                    <li><a href=\"/agencyap/login.asp\">經銷商登入</a></li>\\r\\n                    \\r\\n                    <div class=\"dotted00_2\">\\r\\n                    </div>\\r\\n                    \\r\\n                    <!--li><a href=\"#\" onclick=\"window.parent.location.href=\\'/agencyap/agencyap_online_login.aspx\\';\">\\r\\n                        電腦型經銷商登入</a></li>\\r\\n\\r\\n                    <div class=\"dotted00_2\">\\r\\n                    </div>\\r\\n\\r\\n                    <li><a href=\"#\" onclick=\"window.parent.location.href=\\'/agencyap/agencyap_instant_login.aspx\\';\">\\r\\n                        立即型經銷商登入</a></li>\\r\\n\\r\\n                    <div class=\"dotted00_2\">\\r\\n                    </div-->\\r\\n                    \\r\\n                    <li><a href=\"/agencyap/agency_se_login.aspx\">批售兌獎處登入</a></li>\\r\\n                    \\r\\n                    <div class=\"dotted00_2\">\\r\\n                    </div>\\r\\n                    \\r\\n                    <li><a href=\"/agencyap/pinchhit.asp\" >遞補順序</a></li>\\r\\n                    \\r\\n                    <div class=\"dotted00_2\">\\r\\n                    </div>\\r\\n                    \\r\\n                    <!--li><a href=\"agencyap/rules.asp\">遴選及管理要點</a></li>\\r\\n                    \\r\\n                    <div class=\"dotted00_2\">\\r\\n                    </div-->\\r\\n                    \\r\\n                    <li><a href=\"agencyap/join.asp\">我想要賣刮刮樂</a></li>\\r\\n                    \\r\\n                    <div class=\"dotted00_2\">\\r\\n                    </div>\\r\\n                    \\r\\n                    <!--li><a href=\"#\" onclick=\"window.parent.location.href=\\'/agencyap/online_audition.aspx\\';\">\\r\\n                        有意願擔任代理人查詢</a></li-->\\r\\n\\r\\n                    <div class=\"dotted00_2\">\\r\\n                    </div>\\r\\n                    \\r\\n                    <li><a href=\"/prevent.asp\">經銷商防疫專區</a></li>\\r\\n                </ul>\\r\\n            </li>\\r\\n\\t\\t\\t\\r\\n\\t\\t\\t\\r\\n\\t\\t\\t<div class=\"dotted00\">\\r\\n            </div>\\r\\n\\r\\n            <!--li class=\"has_sub\"><a href=\"#\" onclick=\"window.parent.location.href=\\'https://selection.taiwanlottery.com.tw\\';\">\\r\\n                電腦型經銷商遴選報名</a>\\r\\n\\t\\t\\t\\t    <ul>\\r\\n                    <li><a href=\"#\" onclick=\"window.parent.location.href=\\'https://selection.taiwanlottery.com.tw\\';\">電腦型經銷商遴選報名</a></li>\\r\\n\\t\\t\\t\\t\\t</ul>\\r\\n            </li>\\r\\n\\t\\t\\t\\r\\n\\t\\t\\t\\r\\n            <div class=\"dotted00\">\\r\\n            </div-->\\r\\n\\r\\n            <li class=\"has_sub\"><a href=\"faq/faq.asp\">常見問答</a>\\r\\n                <ul>\\r\\n                    <li><a href=\"faq/faq.asp\">開獎</a></li>\\r\\n                    \\r\\n                    <div class=\"dotted00_2\">\\r\\n                    </div>\\r\\n                    \\r\\n                    <li><a href=\"faq/faq_faq01.asp\">兌獎</a></li>\\r\\n                    \\r\\n                    <div class=\"dotted00_2\">\\r\\n                    </div>\\r\\n                    \\r\\n                    <li><a href=\"faq/faq_faq02.asp\">彩券玩法</a></li>\\r\\n                    \\r\\n                    <div class=\"dotted00_2\">\\r\\n                    </div>\\r\\n                    \\r\\n                    <li><a href=\"faq/faq_faq03.asp\">經銷商</a></li>\\r\\n                    \\r\\n                    <div class=\"dotted00_2\">\\r\\n                    </div>\\r\\n                    \\r\\n                    <li><a href=\"faq/faq_faq04.asp\">稅賦與佣金</a></li>\\r\\n                    \\r\\n                    <div class=\"dotted00_2\"></div>\\r\\n                    \\r\\n                    <li><a href=\"faq/faq_faq05.asp\">問題公益彩券申請及處理</a></li>\\r\\n                </ul>\\r\\n            </li>\\r\\n\\r\\n            <div class=\"dotted00\">\\r\\n            </div>\\r\\n\\r\\n            <li class=\"has_sub\"><a href=\"about/howtoplay.asp\">投注方式與兌獎</a>\\r\\n                <ul>\\r\\n                    <li><a href=\"about/howtoplay.asp\">投注方式</a></li>\\r\\n                    \\r\\n                    <div class=\"dotted00_2\">\\r\\n                    </div>\\r\\n                    \\r\\n                    <li><a href=\"Lotto/se/salelocation.aspx\">銷售地點</a></li>\\r\\n                    \\r\\n                    <div class=\"dotted00_2\">\\r\\n                    </div>\\r\\n                    \\r\\n                    <li><a href=\"about/bonus.asp\">如何兌領獎金</a></li>\\r\\n                    \\r\\n                    <div class=\"dotted00_2\">\\r\\n                    </div>\\r\\n                    \\r\\n                    <li><a href=\"Lotto/se/location.aspx\">批售兌獎處</a></li>\\r\\n                </ul>\\r\\n            </li>\\r\\n\\r\\n            <div class=\"dotted00\">\\r\\n            </div>\\r\\n\\r\\n            <li class=\"has_sub\"><a href=\"/info/welfare/profit.asp\">愛心公益</a>\\r\\n                <ul>\\r\\n                    <li><a href=\"/info/welfare/profit.asp\">公益彩券盈餘分配比率</a></li>\\r\\n                    \\r\\n                    <div class=\"dotted00_2\">\\r\\n                    </div>\\r\\n                    \\r\\n                    <li><a href=\"/info/welfare/welfare_profit4.aspx\">公益彩券各直轄市、縣（市）\\u3000 政府盈餘分配撥付表</a></li>\\r\\n                    <li class=\"third_sub\"><a href=\"/3th_lottery_1230/info/welfare/profit2.aspx\">96-102年公益彩券盈餘分配表</a></li>\\r\\n                    \\r\\n                    <div class=\"dotted00_2\">\\r\\n                    </div>\\r\\n                    \\r\\n                    <li><a href=\"/info/welfare/welfare_profit5.aspx\">公益彩券營業報告書簡表</a></li>\\r\\n                    <li class=\"third_sub\"><a href=\"/3th_lottery_1230/info/welfare/profit3.aspx\">96-102年營業報告書簡表</a></li>\\r\\n                    \\r\\n                </ul>\\r\\n            </li>\\r\\n\\r\\n            <div class=\"dotted00\">\\r\\n            </div>\\r\\n\\r\\n            <li class=\"has_sub\"><a href=\"AgencyRule/AgencyRule.asp\">公益彩券相關法規</a>\\r\\n                <ul>\\r\\n                    <li><a href=\"AgencyRule/rules1.asp\">發行條例</a></li>\\r\\n                    \\r\\n                    <div class=\"dotted00_2\">\\r\\n                    </div>\\r\\n                    \\r\\n                    <li><a href=\"AgencyRule/rules2.asp\">管理辦法</a></li>\\r\\n                    \\r\\n                    <div class=\"dotted00_2\">\\r\\n                    </div>\\r\\n                    \\r\\n                    <li><a href=\"AgencyRule/rules3.asp\">第4屆公益彩券經銷商遴選<br>及管理要點</a></li>\\r\\n                    <li class=\"third_sub\"><a href=\"/AgencyRule/AgencyRule_news.asp\">修訂公告</a></li>\\r\\n                    \\r\\n                    <div class=\"dotted00_2\">\\r\\n                    </div>\\r\\n                    \\r\\n                    <li><a href=\"AgencyRule/rules4.asp\">第4屆公益彩券傳統型及<br>立即型彩券批購作業規範</a></li>\\r\\n                    <li class=\"third_sub\"><a href=\"/AgencyRule/AgencyRule_news2.asp\">修訂公告</a></li>\\r\\n                    \\r\\n                </ul>\\r\\n            </li>\\r\\n\\r\\n            <div class=\"dotted00\">\\r\\n            </div>\\r\\n\\r\\n        </ul>\\r\\n    </div>\\r\\n  <div id=\"qrcode\">\\r\\n        <p>&nbsp;</p>\\r\\n        <p><img src=\"images/qrcode.png\"/>\\r\\n        </p>\\r\\n        <p>\\r\\n            &nbsp;&nbsp;&nbsp;&nbsp;&nbsp;&nbsp;&nbsp;&nbsp;&nbsp;&nbsp; 台灣彩券</p>\\r\\n        <br />\\r\\n</div>\\r\\n</body>\\r\\n</html>\\r\\n\\r\\n  </div>\\r\\n  <div id=\"right_top\">\\r\\n    <!--***************預估頭彩區塊***************-->\\r\\n    <div id=\"top_dollarbox\"> <img id=\"imgPowerLottery\" src=\"images/logo_totbox_01.jpg\" /> <img id=\"imgBigLottery\" src=\"images/logo_totbox_02.jpg\" />  <!--img id=\"imgFLottery\" src=\"images/logo_totbox_03.jpg\" /-->\\r\\n        \\r\\n        <img id=\"dodo01\" src=\"images/dodo.gif\" /> <img id=\"dodo02\" src=\"images/dodo.gif\" /> <img id=\"dodo03\" src=\"images/dodo.gif\" /> <img id=\"dodo04\" src=\"images/dodo.gif\" /> <img id=\"dodo05\" src=\"images/dodo.gif\" /> <img id=\"dodo06\" src=\"images/dodo.gif\" /><!--img id=\"dodo07\" src=\"images/dodo.gif\" /><img id=\"dodo08\" src=\"images/dodo.gif\" /><img id=\"dodo09\" src=\"images/dodo.gif\" /-->\\r\\n      <div class=\"dollar_right\">目前頭獎預估金額</div>\\r\\n      <div class=\"top_dollar_tx\">\\r\\n          <span id=\"lMoney38\">$</span>\\r\\n<!--***************威力彩***************-->\\r\\n    \\r\\n\\t\\t<div class=\"top_dollar\">0200000000</div>\\r\\n        \\r\\n      </div>\\r\\n      <!--ContentArea 威力彩預估金額 End-->\\r\\n      <br>\\r\\n      <hr/>\\r\\n      <div class=\"top_dollar_tx\">\\r\\n          <span id=\"lMoney49\">$</span>\\r\\n      <!--ContentArea 大樂透預估金額 Start-->\\r\\n        \\r\\n          <div class=\"top_dollar\">0100000000</div>\\r\\n        \\r\\n      </div>\\r\\n      <!--ContentArea 大樂透預估金額 End-->\\r\\n      <br>\\r\\n      <hr/>\\r\\n      <!--div class=\"top_dollar_tx\">$\\r\\n        <ContentArea 大福彩預估金額 Start>\\r\\n        <div class=\"top_dollar\">\\r\\n          \\r\\n        </div>\\r\\n      </div-->\\r\\n    </div>\\r\\n    <div id=\"right_side\">\\r\\n      <!-- *輪播區* -->\\r\\n      <div id=\"bannerSpan\" class=\"banner\"></div>\\r\\n   \\r\\n\\r\\n      <!-- *輪播區* -->\\r\\n    </div>\\r\\n    <!--***************最新消息區塊***************-->\\r\\n\\r\\n    <div id=\"top_news\">\\r\\n      <div class=\"top_news_title\">最新消息 <span class=\"font_glay10\">ＨＯＴ ＮＥＷＳ </span>\\r\\n        <div id=\"more_right\" class=\"font_glay10\"><a href=\"info/news/news.aspx\">more></a></div>\\r\\n      </div>\\r\\n      <hr size=\"2\" color=\"#FF0000\" style=\"margin-bottom:0px\"/>\\r\\n      <div class=\"font_glay14_indexNews\">\\r\\n        <ul>\\r\\n           <li style=  height:2px;padding:0;border:0;background-position:-300px 0;margin-top:0px!important;margin-top:-20px;  >\\r\\n         </li>\\r\\n         <li><a href=\"/news/DrawNumber.aspx\"  style= font-weight:bold; >\\r\\n           <span class=  date >\\r\\n           </span>最新開獎獎號一覽表</a></li>    \\r\\n           <li><a href=/news/IN1120629news_detail_854.asp><span class=  date  >[112/6/29]</span>立即型彩券「鑽很大」與「獎金倍倍樂」上市公告</a></li><li><a href=/news/PR1120628news_detail_855.asp><span class=  date  >[112/6/28]</span>第5屆電腦型彩券經銷商遴選測驗作業近日正在進行中 針對外界…</a></li><li><a href=/news/AS1120621news_detail_853.asp><span class=  date  >[112/6/21]</span>112年5月份公益彩券盈餘21.48億元\\u3000挹注政府各項社福…</a></li><li><a href=/news/CH1120606news_detail_852.asp><span class=  date  >[112/6/6]</span>中國信託商業銀行舉辦第5屆公益彩券電腦型彩券經銷商遴選測驗…</a></li>\\r\\n        </ul>\\r\\n      </div>\\r\\n       <div class=\"top_news_title\">重點資訊 <span class=\"font_glay10\">ＡＮＮＯＵＮＣＥＭＥＮＴ </span>\\r\\n        <div id=\"Div1\" class=\"font_glay10\"></div>\\r\\n      </div>\\r\\n        <hr size=\"2\" color=\"#FF0000\"  style=\"margin-bottom:0px\"/>\\r\\n      <div class=\"font_glay14_indexNews\">\\r\\n        <ul>\\r\\n           <li style=  height:2px;padding:0;border:0;background-position:-300px 0;margin-top:0px!important;margin-top:-20px;  >\\r\\n          </li>          \\r\\n          <li><a href=\"/news/AS1080920news_detail_540.asp\"  >\\r\\n            <span class=  date  >\\r\\n            </span>公益彩券中獎獎金免稅門檻提高為新臺幣5,000元</a></li>\\r\\n\\t\\t\\t\\t\\t  \\r\\n          <li><a href=\"/news/ON1070904news_detail_431.asp\"  >\\r\\n            <span class=  date  >\\r\\n            </span>專業人士參觀本公司開獎電視台及開獎流程影音連結</a></li>\\r\\n  \\r\\n          <li><a href=\"/news/ON1050905news_detail_242.asp\"  >\\r\\n            <span class=  date  >\\r\\n            </span>台彩嚴正駁斥網路「開獎不實」傳聞</a></li>\\r\\n            \\r\\n        </ul>\\r\\n      </div>\\r\\n    </div>\\r\\n  </div>\\r\\n  <div id=\"rightdown\">\\r\\n    <!--***************BINGO BINGO**************-->\\r\\n    <div class=\"contents_box01\">\\r\\n      <div id=\"contents_logo_01\"> </div><div class=\"contents_mine_tx01\"><span class=\"font_black15\">112/7/1&nbsp;第112036816期 </span> <span class=\"font_red14\"><a href=\"/Lotto/BingoBingo/history.aspx\">開獎結果</a> ｜ <a href=\"/Lotto/BingoBingo/drawing.aspx\">各期獎號查詢</a><a href=\"/lotto/BingoBingo/OEHLStatistic.htm\"><div id=\"contents_logo_01-2\"></div></a></span></div><div class=\"contents_mine_tx04\">開出獎號</div><div class=\"ball_box01\"><div class=\"ball_tx ball_yellow\">09 </div><div class=\"ball_tx ball_yellow\">13 </div><div class=\"ball_tx ball_yellow\">14 </div><div class=\"ball_tx ball_yellow\">15 </div><div class=\"ball_tx ball_yellow\">16 </div><div class=\"ball_tx ball_yellow\">18 </div><div class=\"ball_tx ball_yellow\">19 </div><div class=\"ball_tx ball_yellow\">23 </div><div class=\"ball_tx ball_yellow\">25 </div><div class=\"ball_tx ball_yellow\">27 </div><div class=\"ball_tx ball_yellow\">28 </div><div class=\"ball_tx ball_yellow\">33 </div><div class=\"ball_tx ball_yellow\">39 </div><div class=\"ball_tx ball_yellow\">40 </div><div class=\"ball_tx ball_yellow\">48 </div><div class=\"ball_tx ball_yellow\">62 </div><div class=\"ball_tx ball_yellow\">64 </div><div class=\"ball_tx ball_yellow\">69 </div><div class=\"ball_tx ball_yellow\">72 </div><div class=\"ball_tx ball_yellow\">73 </div></div><div class=\"contents_mine_tx08\">&nbsp&nbsp超級<br>&nbsp&nbsp獎號<br><div class=\"ball_red\">48</div></div><div class=\"contents_mine_tx08\">&nbsp&nbsp&nbsp猜<br>&nbsp大&nbsp小<br><div class=\"ball_blue_BB1\">小</div></div><div class=\"contents_mine_tx08\">&nbsp&nbsp&nbsp猜<br>&nbsp單&nbsp雙<br><div class=\"ball_blue_BB2\">小單</div></div>\\r\\n    </div>\\r\\n    <div class=\"dotted01\"></div>\\r\\n\\t <!--***************雙贏彩區塊***************-->\\r\\n    <div class=\"contents_box06\">\\r\\n      <div id=\"contents_logo_11\"></div><div class=\"contents_mine_tx09\"><span class=\"font_black15\">112/6/30&nbsp;第112000155期 </span><span class=\"font_red14\"><a href=\"Result_all.aspx#12\">開獎結果</a></span></div><div class=\"contents_mine_tx04\">開出順序<br>大小順序</div><div class=\"ball_tx ball_blue\">15 </div><div class=\"ball_tx ball_blue\">20 </div><div class=\"ball_tx ball_blue\">16 </div><div class=\"ball_tx ball_blue\">02 </div><div class=\"ball_tx ball_blue\">06 </div><div class=\"ball_tx ball_blue\">24 </div><div class=\"ball_tx ball_blue\">01 </div><div class=\"ball_tx ball_blue\">10 </div><div class=\"ball_tx ball_blue\">07 </div><div class=\"ball_tx ball_blue\">12 </div><div class=\"ball_tx ball_blue\">05 </div><div class=\"ball_tx ball_blue\">14 </div><div class=\"ball_tx ball_blue\">01 </div><div class=\"ball_tx ball_blue\">02 </div><div class=\"ball_tx ball_blue\">05 </div><div class=\"ball_tx ball_blue\">06 </div><div class=\"ball_tx ball_blue\">07 </div><div class=\"ball_tx ball_blue\">10 </div><div class=\"ball_tx ball_blue\">12 </div><div class=\"ball_tx ball_blue\">14 </div><div class=\"ball_tx ball_blue\">15 </div><div class=\"ball_tx ball_blue\">16 </div><div class=\"ball_tx ball_blue\">20 </div><div class=\"ball_tx ball_blue\">24 </div>\\r\\n    </div>\\r\\n    <div class=\"dotted01\"></div>\\r\\n    <!--***************威力彩區塊***************-->\\r\\n    <div class=\"contents_box02\">\\r\\n      <div id=\"contents_logo_02\"></div><div class=\"contents_mine_tx02\"><span class=\"font_black15\">112/6/29&nbsp;第112000052期 </span><span class=\"font_red14\"><a href=\"Result_all.aspx#01\">開獎結果</a></span></div><div class=\"contents_mine_tx04\">開出順序<br>大小順序<br>第二區</div><div class=\"ball_tx ball_green\">36 </div><div class=\"ball_tx ball_green\">27 </div><div class=\"ball_tx ball_green\">26 </div><div class=\"ball_tx ball_green\">29 </div><div class=\"ball_tx ball_green\">08 </div><div class=\"ball_tx ball_green\">01 </div><div class=\"ball_tx ball_green\">01 </div><div class=\"ball_tx ball_green\">08 </div><div class=\"ball_tx ball_green\">26 </div><div class=\"ball_tx ball_green\">27 </div><div class=\"ball_tx ball_green\">29 </div><div class=\"ball_tx ball_green\">36 </div><div class=\"ball_red\">02 </div>\\r\\n    </div>\\r\\n    <div class=\"dotted02\"></div>\\r\\n    <!--***************38樂合彩區塊***************-->\\r\\n    <div class=\"contents_box02\">\\r\\n      <div id=\"contents_logo_03\"></div><div class=\"contents_mine_tx02\"><span class=\"font_black15\">112/6/29&nbsp;第112000052期 </span><span class=\"font_red14\"><a href=\"Result_all.aspx#07\">開獎結果</a></span></div><div class=\"contents_mine_tx04\">開出順序<br>大小順序</div><div class=\"ball_tx ball_green\">36 </div><div class=\"ball_tx ball_green\">27 </div><div class=\"ball_tx ball_green\">26 </div><div class=\"ball_tx ball_green\">29 </div><div class=\"ball_tx ball_green\">08 </div><div class=\"ball_tx ball_green\">01 </div><div class=\"ball_tx ball_green\">01 </div><div class=\"ball_tx ball_green\">08 </div><div class=\"ball_tx ball_green\">26 </div><div class=\"ball_tx ball_green\">27 </div><div class=\"ball_tx ball_green\">29 </div><div class=\"ball_tx ball_green\">36 </div>\\r\\n    </div>\\r\\n    <div class=\"dotted01\"></div>\\r\\n    <!--***************大樂透區塊***************-->\\r\\n    <div class=\"contents_box02\">\\r\\n      <div id=\"contents_logo_04\"></div><div class=\"contents_mine_tx02\"><span class=\"font_black15\">112/6/30&nbsp;第112000064期 </span><span class=\"font_red14\"><a href=\"Result_all.aspx#02\">開獎結果</a></span></div><div class=\"contents_mine_tx04\">開出順序<br>大小順序<br>特別號</div><div class=\"ball_tx ball_yellow\">26 </div><div class=\"ball_tx ball_yellow\">06 </div><div class=\"ball_tx ball_yellow\">22 </div><div class=\"ball_tx ball_yellow\">29 </div><div class=\"ball_tx ball_yellow\">32 </div><div class=\"ball_tx ball_yellow\">43 </div><div class=\"ball_tx ball_yellow\">06 </div><div class=\"ball_tx ball_yellow\">22 </div><div class=\"ball_tx ball_yellow\">26 </div><div class=\"ball_tx ball_yellow\">29 </div><div class=\"ball_tx ball_yellow\">32 </div><div class=\"ball_tx ball_yellow\">43 </div><div class=\"ball_red\">38 </div>\\r\\n    </div>\\r\\n    <div class=\"dotted02\"></div>\\r\\n    <!--***************49樂合彩區塊***************-->\\r\\n    <div class=\"contents_box02\">\\r\\n      <div id=\"contents_logo_05\"></div><div class=\"contents_mine_tx02\"><span class=\"font_black15\">112/6/30&nbsp;第112000064期 </span><span class=\"font_red14\"><a href=\"Result_all.aspx#08\">開獎結果</a></span></div><div class=\"contents_mine_tx04\">開出順序<br>大小順序</div><div class=\"ball_tx ball_yellow\">26 </div><div class=\"ball_tx ball_yellow\">06 </div><div class=\"ball_tx ball_yellow\">22 </div><div class=\"ball_tx ball_yellow\">29 </div><div class=\"ball_tx ball_yellow\">32 </div><div class=\"ball_tx ball_yellow\">43 </div><div class=\"ball_tx ball_yellow\">06 </div><div class=\"ball_tx ball_yellow\">22 </div><div class=\"ball_tx ball_yellow\">26 </div><div class=\"ball_tx ball_yellow\">29 </div><div class=\"ball_tx ball_yellow\">32 </div><div class=\"ball_tx ball_yellow\">43 </div>\\r\\n    </div>\\r\\n    <div class=\"dotted01\"></div>\\r\\n    <!--***************大福彩區塊***************-->\\r\\n    <!--div class=\"contents_box05\">\\r\\n      \\r\\n    </div-->\\r\\n    <!--div class=\"dotted01\"></div-->\\r\\n    <!--**************今彩539區塊**************-->\\r\\n    <div class=\"contents_box03\">\\r\\n      <div id=\"contents_logo_06\"></div><div class=\"contents_mine_tx02\"><span class=\"font_black15\">112/6/30&nbsp;第112000155期 </span><span class=\"font_red14\"><a href=\"Result_all.aspx#03\">開獎結果</a></span></div><div class=\"contents_mine_tx04\">開出順序<br>大小順序</div><div class=\"ball_tx ball_lemon\">36 </div><div class=\"ball_tx ball_lemon\">03 </div><div class=\"ball_tx ball_lemon\">20 </div><div class=\"ball_tx ball_lemon\">11 </div><div class=\"ball_tx ball_lemon\">30 </div><div class=\"ball_tx\"></div><div class=\"ball_tx ball_lemon\">03 </div><div class=\"ball_tx ball_lemon\">11 </div><div class=\"ball_tx ball_lemon\">20 </div><div class=\"ball_tx ball_lemon\">30 </div><div class=\"ball_tx ball_lemon\">36 </div>\\r\\n    </div>\\r\\n    <div class=\"dotted03\"></div>\\r\\n    <!--**************39樂合彩區塊**************-->\\r\\n    <div class=\"contents_box03\">\\r\\n      <div id=\"contents_logo_07\"></div><div class=\"contents_mine_tx02\"><span class=\"font_black15\">112/6/30&nbsp;第112000155期 </span><span class=\"font_red14\"><a href=\"Result_all.aspx#09\">開獎結果</a></span></div><div class=\"contents_mine_tx04\">開出順序<br>大小順序</div><div class=\"ball_tx ball_lemon\">36 </div><div class=\"ball_tx ball_lemon\">03 </div><div class=\"ball_tx ball_lemon\">20 </div><div class=\"ball_tx ball_lemon\">11 </div><div class=\"ball_tx ball_lemon\">30 </div><div class=\"ball_tx\"></div><div class=\"ball_tx ball_lemon\">03 </div><div class=\"ball_tx ball_lemon\">11 </div><div class=\"ball_tx ball_lemon\">20 </div><div class=\"ball_tx ball_lemon\">30 </div><div class=\"ball_tx ball_lemon\">36 </div>\\r\\n    </div>\\r\\n    <div class=\"dotted01\"></div>\\r\\n    <!--**************3星彩區塊**************-->\\r\\n    <div class=\"contents_box04\">\\r\\n      <div id=\"contents_logo_08\"></div><div class=\"contents_mine_tx02\"><span class=\"font_black15\">112/6/30&nbsp;第112000155期 </span><span class=\"font_red14\"><a href=\"Result_all.aspx#05\">開獎結果</a></span></div><div class=\"contents_mine_tx04\">中獎號碼</div><div class=\"ball_tx ball_purple\">1</div><div class=\"ball_tx ball_purple\">9</div><div class=\"ball_tx ball_purple\">9</div>\\r\\n    </div>\\r\\n    <div class=\"dotted04\"></div>\\r\\n    <!--**************4星彩區塊**************-->\\r\\n    <div class=\"contents_box04\">\\r\\n      <div id=\"contents_logo_09\"></div><div class=\"contents_mine_tx02\"><span class=\"font_black15\">112/6/30&nbsp;第112000155期 </span><span class=\"font_red14\"><a href=\"Result_all.aspx#06\">開獎結果</a></span></div><div class=\"contents_mine_tx04\">中獎號碼</div><div class=\"ball_tx ball_purple\">7</div><div class=\"ball_tx ball_purple\">6</div><div class=\"ball_tx ball_purple\">4</div><div class=\"ball_tx ball_purple\">7</div>\\r\\n    </div>\\r\\n  </div>\\r\\n  <iframe src=\"fooder.asp\" width=\"1024\" height=\"120\" scrolling=\"no\"  frameborder=\"0\" > </iframe>\\r\\n\\t<div class=\"scrollbar2\">未滿18歲者  不得購買或兌領彩券</div>\\r\\n\\t\\r\\n</div>\\r\\n    </form>\\r\\n</body>\\r\\n</html>\\r\\n<!--TLCEND//-->\\r\\n'"
      ]
     },
     "execution_count": 2,
     "metadata": {},
     "output_type": "execute_result"
    }
   ],
   "source": [
    "resp.text"
   ]
  },
  {
   "cell_type": "code",
   "execution_count": 3,
   "id": "4d438e14",
   "metadata": {
    "collapsed": true
   },
   "outputs": [
    {
     "data": {
      "text/plain": [
       "<!DOCTYPE html PUBLIC \"-//W3C//DTD XHTML 1.0 Transitional//EN\" \"http://www.w3.org/TR/xhtml1/DTD/xhtml1-transitional.dtd\">\n",
       "<html xmlns=\"http://www.w3.org/1999/xhtml\">\n",
       "<head><meta content=\"IE=Edge,chrome=1\" http-equiv=\"X-UA-Compatible\"/><meta content=\"text/html; charset=utf-8\" http-equiv=\"Content-Type\"/><title>\n",
       "\t台灣彩券 taiwanlottery\n",
       "</title>\n",
       "<script charset=\"big5\" language=\"JavaScript\" src=\"showlist.js\" type=\"text/javascript\"></script>\n",
       "<script language=\"JavaScript\" src=\"js/banner.js\" type=\"text/javascript\"></script>\n",
       "<link href=\"css1.css?ver=1.0\" rel=\"stylesheet\" type=\"text/css\"/>\n",
       "<script language=\"javascript\" type=\"text/javascript\">\n",
       "    function setClass(obj1, obj2, item1, item2) {\n",
       "        obj1.style.display = 'block';\n",
       "        obj2.style.display = 'none';\n",
       "\n",
       "        item1.setAttribute(\"class\", \"left_top_clicked\");\n",
       "        item2.setAttribute(\"class\", \"left_top_unclicked\");\n",
       "    }\n",
       "    </script>\n",
       "<script type=\"text/JavaScript\">\n",
       "\n",
       "<!--\n",
       "\n",
       "\t    if (navigator.appName.indexOf(\"Internet Explorer\") != -1)\n",
       "\n",
       "\t        document.onmousedown = noSourceExplorer;\n",
       "\n",
       "\t    function noSourceExplorer() {\n",
       "\n",
       "\t        if (event.button == 2 | event.button == 3) {\n",
       "\n",
       "\t            alert(\"版權所有 台灣彩券\");\n",
       "\n",
       "\t            //location.replace(\"http://www.taiwanlottery.com.tw/\");\n",
       "\n",
       "\t        }\n",
       "\n",
       "\t    }\n",
       "\n",
       "-->\n",
       "\n",
       "</script>\n",
       "<style>\n",
       "\t.scrollbar{\n",
       "\t\tdisplay: block;\n",
       "\t\twidth: 100px;\n",
       "\t\theight: 100px;\n",
       "\t\tposition: fixed;\n",
       "\t\ttop: 10%;\n",
       "\t\tright: 2%;\n",
       "\t}\n",
       "\n",
       "\t.scrollbar img{\n",
       "\t\twidth: 100%;\n",
       "\t\theight: 100%;\n",
       "\t}\n",
       "\t.scrollbar2{\n",
       "\t\tdisplay: none;\n",
       "\t}\n",
       "\t@media (min-width:375px) and (max-width:1279px) {\n",
       "\t.scrollbar{\n",
       "\t\tdisplay: none;\n",
       "\t\t}\n",
       "\t.scrollbar2{\n",
       "\t\tdisplay: block;\n",
       "\t\tpadding: 10px;\n",
       "\t\tbackground: #FFCC00;\n",
       "\t\tcolor: #000000;\n",
       "\t\tfont-size: 1.5rem;\n",
       "\t\ttext-align: center;\n",
       "\t\tposition: fixed;\n",
       "\t\tbottom: 0;\n",
       "\t\twidth: 1004px;\n",
       "\t\tz-index: 2;\n",
       "\t\tfont-weight: bold;\n",
       "\t\t}\n",
       "\t}\n",
       "\n",
       "\t@media (min-width:1920px) {\n",
       "\t.scrollbar{\n",
       "\t\tright: 17%;\n",
       "\t}\n",
       "\t}\n",
       "\t@media (max-width:1919px) {\n",
       "\t.scrollbar{\n",
       "\t\tright: 12.5%;\n",
       "\t}\n",
       "\t}\n",
       "\t@media (max-width:1700px) {\n",
       "\t.scrollbar{\n",
       "\t\tright: 11.5%;\n",
       "\t}\n",
       "\t}\n",
       "\t@media (max-width:1600px) {\n",
       "\t.scrollbar{\n",
       "\t\tright: 10%;\n",
       "\t}\n",
       "\t}\n",
       "\t@media (max-width:1550px) {\n",
       "\t.scrollbar{\n",
       "\t\tright: 7.5%;\n",
       "\t}\n",
       "\t}\n",
       "\t@media (max-width:1450px) {\n",
       "\t.scrollbar{\n",
       "\t\tright: 6%;\n",
       "\t}\n",
       "\t}\n",
       "\t@media (max-width:1400px) {\n",
       "\t.scrollbar{\n",
       "\t\tright: 4%;\n",
       "\t}\n",
       "\t}\n",
       "\t@media (max-width:1350px) {\n",
       "\t.scrollbar{\n",
       "\t\tright: 2%;\n",
       "\t}\n",
       "\t}\n",
       "\t@media (min-width:1280px) and (max-width:1300px) {\n",
       "\t.scrollbar{\n",
       "\t\tright: 0%;\n",
       "\t}\n",
       "\t}\n",
       "\n",
       "\t</style>\n",
       "<!-- Google Tag Manager-->\n",
       "<script>(function(w,d,s,l,i){w[l]=w[l]||[];w[l].push({'gtm.start':\n",
       "new Date().getTime(),event:'gtm.js'});var f=d.getElementsByTagName(s)[0],\n",
       "j=d.createElement(s),dl=l!='dataLayer'?'&l='+l:'';j.async=true;j.src=\n",
       "'https://www.googletagmanager.com/gtm.js?id='+i+dl;f.parentNode.insertBefore(j,f);\n",
       "})(window,document,'script','dataLayer','GTM-N6HP9ZR');</script>\n",
       "<!-- End Google Tag Manager -->\n",
       "</head>\n",
       "<body onload=\"showBanner();\">\n",
       "<!-- Google Tag Manager (noscript)-->\n",
       "<noscript><iframe height=\"0\" src=\"https://www.googletagmanager.com/ns.html?id=GTM-N6HP9ZR\" style=\"display:none;visibility:hidden\" width=\"0\"></iframe></noscript>\n",
       "<!-- End Google Tag Manager (noscript) -->\n",
       "<form action=\"./index_new.aspx?aspxerrorpath=%2findex_new2.aspx\" id=\"form1\" method=\"post\">\n",
       "<div class=\"aspNetHidden\">\n",
       "<input id=\"__VIEWSTATE\" name=\"__VIEWSTATE\" type=\"hidden\" value=\"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\"/>\n",
       "</div>\n",
       "<div class=\"aspNetHidden\">\n",
       "<input id=\"__VIEWSTATEGENERATOR\" name=\"__VIEWSTATEGENERATOR\" type=\"hidden\" value=\"56A5C0AB\"/>\n",
       "</div>\n",
       "<div id=\"wrapper_overflow\">\n",
       "<!--  未滿18歲不得購買或兌領彩券  -->\n",
       "<div class=\"scrollbar\">\n",
       "<img alt=\"未滿18歲不得購買或兌領彩券\" src=\"images/scrollbar.png\"/>\n",
       "</div>\n",
       "<!--  未滿18歲不得購買或兌領彩券  -->\n",
       "<iframe frameborder=\"0\" height=\"68\" scrolling=\"no\" src=\"header.asp\" width=\"1024\"> </iframe>\n",
       "<div id=\"left\">\n",
       "<!--***************刮刮樂 區塊***************-->\n",
       "<div id=\"left_top\">\n",
       "<div class=\"left_top_clicked\" id=\"left_top_btn01\" onclick=\"setClass(left_top_contents01,left_top_contents02,left_top_btn01,left_top_btn02);\">\n",
       "                    熱賣中</div>\n",
       "<div class=\"left_top_unclicked\" id=\"left_top_btn02\" onclick=\"setClass(left_top_contents02,left_top_contents01,left_top_btn02,left_top_btn01);\">\n",
       "                    預告</div>\n",
       "<div class=\"display_block\" id=\"left_top_contents01\">\n",
       "<iframe frameborder=\"0\" height=\"164px\" scrolling=\"yes\" src=\"index_onsale.html \" width=\"224px\">\n",
       "</iframe>\n",
       "</div>\n",
       "<div class=\"display_none\" id=\"left_top_contents02\">\n",
       "<iframe frameborder=\"0\" height=\"164px\" scrolling=\"yes\" src=\"index_coming.html\" width=\"224px\">\n",
       "</iframe>\n",
       "</div>\n",
       "</div>\n",
       "<!--***************開獎實況轉播電視圖***************-->\n",
       "<a href=\"https://fnc.ebc.net.tw/TaiwanLottery/\" target=\"_blank\"> <img alt=\"TV\" src=\"images/twl_index_pic_TV.gif\"/></a>\n",
       "<!--***************  2,000萬超級紅包  ***************-->\n",
       "<!--\n",
       "  <p style=\"font-size:0px;height:2px;overflow:hidden;padding:0px;margin:5px;\"></p>\n",
       "  <a href=\"/instant/instant_games_details_4538.asp\">\n",
       "  <img border=\"0\" src=\"images/twl_index_banner_225.gif  \"></a>\n",
       "<p style=\"font-size:0px;height:2px;overflow:hidden;padding:0px;margin:5px;\"></p>\n",
       "-->\n",
       "<!--***************2020新增區域  第五屆宣導***************-->\n",
       "<p style=\"font-size:0px;height:2px;overflow:hidden;padding:0px;margin:5px;\"></p>\n",
       "<a href=\"FifthAgencyPick/FifthAgencyPick_Index.asp\"><img border=\"0\" src=\"images/twl_index_banner_258.jpg\" style=\"width: 259px;height: 88px;\"/></a>\n",
       "<p style=\"font-size:0px;height:2px;overflow:hidden;padding:0px;margin:5px;\"></p>\n",
       "<!--ContentArea 選單Start-->\n",
       "<!DOCTYPE html PUBLIC \"-//W3C//DTD XHTML 1.0 Transitional//EN\" \"http://www.w3.org/TR/xhtml1/DTD/xhtml1-transitional.dtd\">\n",
       "\n",
       "<link href=\"menu.css\" rel=\"stylesheet\" type=\"text/css\"/>\n",
       "<style>\n",
       "\t\t#nav .has_sub span:hover {\n",
       "\t\t\tcolor: #CC0000;\n",
       "\t\t\t}\n",
       "\t</style>\n",
       "<div id=\"nav\">\n",
       "<ul>\n",
       "<li class=\"has_sub\"><a href=\"about/tlc.asp\">關於台灣彩券</a>\n",
       "<ul>\n",
       "<li><a href=\"about/tlc.asp\">認識台灣彩券</a></li>\n",
       "<div class=\"dotted00_2\">\n",
       "</div>\n",
       "<li><a href=\"about/lottery.asp\">認識公益彩券</a></li>\n",
       "<div class=\"dotted00_2\">\n",
       "</div>\n",
       "<li><a href=\"about/CSR.asp\">企業社會責任</a></li>\n",
       "</ul>\n",
       "</li>\n",
       "<div class=\"dotted00\">\n",
       "</div>\n",
       "<li class=\"has_sub\"><a href=\"SuperLotto638/index.asp\">威力彩</a>\n",
       "<ul>\n",
       "<li class=\"img_logo01\"></li>\n",
       "<div class=\"dotted00_2\">\n",
       "</div>\n",
       "<li><a href=\"SuperLotto638/index.asp\">遊戲介紹</a></li>\n",
       "<div class=\"dotted00_2\">\n",
       "</div>\n",
       "<li><a href=\"lotto/superlotto638/history.aspx\">各期獎號與開獎結果</a></li>\n",
       "<div class=\"dotted00_2\">\n",
       "</div>\n",
       "<li><a href=\"/Lotto/se/store.aspx?TYPE=SL638\">頭獎商店</a></li>\n",
       "<div class=\"dotted00_2\">\n",
       "</div>\n",
       "<li><a href=\"SuperLotto638/schedule.asp\">開獎時間</a></li>\n",
       "<div class=\"dotted00_2\">\n",
       "</div>\n",
       "<li><a href=\"Info/number/frequency.aspx?GAME=SL638\">冷熱門球號</a></li>\n",
       "</ul>\n",
       "</li>\n",
       "<div class=\"dotted00\">\n",
       "</div>\n",
       "<li class=\"has_sub\"><a href=\"Lotto649/index.asp\">大樂透</a>\n",
       "<ul>\n",
       "<li class=\"img_logo02\"></li>\n",
       "<div class=\"dotted00_2\">\n",
       "</div>\n",
       "<li><a href=\"Lotto649/index.asp\">遊戲介紹</a></li>\n",
       "<div class=\"dotted00_2\">\n",
       "</div>\n",
       "<li><a href=\"lotto/Lotto649/history.aspx\">各期獎號與開獎結果</a></li>\n",
       "<div class=\"dotted00_2\">\n",
       "</div>\n",
       "<li><a href=\"Lotto/se/store.aspx?TYPE=649\">頭獎商店</a></li>\n",
       "<div class=\"dotted00_2\">\n",
       "</div>\n",
       "<li><a href=\"Lotto649/schedule.asp\">開獎時間</a></li>\n",
       "<div class=\"dotted00_2\">\n",
       "</div>\n",
       "<li><a href=\"Info/number/frequency_649.aspx?GAME=649\">冷熱門球號</a></li>\n",
       "</ul>\n",
       "</li>\n",
       "<!--div class=\"dotted00\">\n",
       "            </div>\n",
       "            <li class=\"has_sub\"><a href=\"#\" onclick=\"window.parent.location.href='Lotto740/index.asp';\">\n",
       "                大福彩</a>\n",
       "                <ul>\n",
       "                    <li class=\"img_logo11\"></li>\n",
       "                    <div class=\"dotted00_2\">\n",
       "                    </div>\n",
       "                    <li><a href=\"#\" onclick=\"window.parent.location.href='Lotto740/index.asp';\">\n",
       "                        遊戲介紹</a></li><div class=\"dotted00_2\">\n",
       "                        </div>\n",
       "                    <li><a href=\"#\" onclick=\"window.parent.location.href='lotto/Lotto740/history.aspx';\">\n",
       "                        各期獎號與開獎結果</a></li><div class=\"dotted00_2\">\n",
       "                        </div>\n",
       "                    <li><a href=\"#\" onclick=\"window.parent.location.href='Lotto/se/store.aspx?TYPE=740';\">頭獎商店</a></li><div\n",
       "                        class=\"dotted00_2\">\n",
       "                    </div>\n",
       "                    <li><a href=\"#\" onclick=\"window.parent.location.href='Lotto740/schedule.asp';\">\n",
       "                        開獎時間</a></li><div class=\"dotted00_2\">\n",
       "                        </div>\n",
       "                    <li><a href=\"#\" onclick=\"window.parent.location.href='Info/number/frequency.aspx?GAME=740';\">\n",
       "                        冷熱門球號</a></li>\n",
       "                </ul>\n",
       "            </li-->\n",
       "<div class=\"dotted00\">\n",
       "</div>\n",
       "<li class=\"has_sub\"><a href=\"DailyCash/index.asp\">今彩539</a>\n",
       "<ul>\n",
       "<li class=\"img_logo03\"></li>\n",
       "<div class=\"dotted00_2\">\n",
       "</div>\n",
       "<li><a href=\"DailyCash/index.asp\">遊戲介紹</a></li>\n",
       "<div class=\"dotted00_2\">\n",
       "</div>\n",
       "<li><a href=\"lotto/DailyCash/history.aspx\">各期獎號與開獎結果</a></li>\n",
       "<div class=\"dotted00_2\">\n",
       "</div>\n",
       "<li><a href=\"Lotto/se/store.aspx?TYPE=539\">頭獎商店</a></li>\n",
       "<div class=\"dotted00_2\">\n",
       "</div>\n",
       "<li><a href=\"DailyCash/schedule.asp\">開獎時間</a></li>\n",
       "<div class=\"dotted00_2\">\n",
       "</div>\n",
       "<li><a href=\"Info/number/frequency_539.aspx?GAME=539\">冷熱門球號</a></li>\n",
       "</ul>\n",
       "</li>\n",
       "<div class=\"dotted00\">\n",
       "</div>\n",
       "<li class=\"has_sub\"><a href=\"Lotto1224/index.asp\">雙贏彩</a>\n",
       "<ul>\n",
       "<li class=\"img_logo12\"></li>\n",
       "<div class=\"dotted00_2\">\n",
       "</div>\n",
       "<li><a href=\"Lotto1224/index.asp\">遊戲介紹</a></li>\n",
       "<div class=\"dotted00_2\">\n",
       "</div>\n",
       "<li><a href=\"lotto/Lotto1224/history.aspx\">各期獎號與開獎結果</a></li>\n",
       "<div class=\"dotted00_2\">\n",
       "</div>\n",
       "<li><a href=\"Lotto/se/store.aspx?TYPE=1224\">頭獎商店</a></li>\n",
       "<div class=\"dotted00_2\">\n",
       "</div>\n",
       "<li><a href=\"Lotto1224/schedule.asp\">開獎時間</a></li>\n",
       "<div class=\"dotted00_2\">\n",
       "</div>\n",
       "<li><a href=\"Info/number/frequency_1224.aspx?GAME=1224\">冷熱門球號</a></li>\n",
       "</ul>\n",
       "</li>\n",
       "<div class=\"dotted00\">\n",
       "</div>\n",
       "<li class=\"has_sub\"><a href=\"BINGOBINGO/index.asp\">BINGO BINGO賓果賓果</a>\n",
       "<ul>\n",
       "<li class=\"img_logo04\"></li>\n",
       "<div class=\"dotted00_2\">\n",
       "</div>\n",
       "<li><a href=\"BINGOBINGO/index.asp\">遊戲介紹</a></li>\n",
       "<div class=\"dotted00_2\">\n",
       "</div>\n",
       "<li><a href=\"lotto/BINGOBINGO/drawing.aspx\">各期獎號查詢</a></li>\n",
       "<div class=\"dotted00_2\">\n",
       "</div>\n",
       "<li><a href=\"lotto/BINGOBINGO/history.aspx\">各期獎金分配查詢</a></li>\n",
       "<div class=\"dotted00_2\">\n",
       "</div>\n",
       "<li><a href=\"Lotto/BINGOBINGO/store.aspx\">10星商店</a></li>\n",
       "<div class=\"dotted00_2\">\n",
       "</div>\n",
       "<li><a href=\"BINGOBINGO/schedule.asp\">開獎時間</a></li>\n",
       "<div class=\"dotted00_2\">\n",
       "</div>\n",
       "<li><a href=\"Info/number/frequency_BB.aspx?GAME=BB\">冷熱門球號</a></li>\n",
       "<div class=\"dotted00_2\">\n",
       "</div>\n",
       "<li><a href=\"lotto/BingoBingo/OEHLStatistic.htm\">猜單雙、猜大小 即時獎號<br/>統計</a></li>\n",
       "</ul>\n",
       "</li>\n",
       "<div class=\"dotted00\">\n",
       "</div>\n",
       "<li class=\"has_sub\"><a href=\"3D/index.asp\">3星彩</a>\n",
       "<ul>\n",
       "<li class=\"img_logo05\"></li>\n",
       "<div class=\"dotted00_2\">\n",
       "</div>\n",
       "<li><a href=\"3D/index.asp\">遊戲介紹</a></li>\n",
       "<div class=\"dotted00_2\">\n",
       "</div>\n",
       "<li><a href=\"lotto/3D/history.aspx\">各期獎號與開獎結果</a></li>\n",
       "<div class=\"dotted00_2\">\n",
       "</div>\n",
       "<li><a href=\"3D/schedule.asp\">開獎時間</a></li>\n",
       "<div class=\"dotted00_2\">\n",
       "</div>\n",
       "<li><a href=\"Info/number/frequency_3D.aspx?GAME=3D\">冷熱門球號</a></li>\n",
       "</ul>\n",
       "</li>\n",
       "<div class=\"dotted00\">\n",
       "</div>\n",
       "<li class=\"has_sub\"><a href=\"4D/index.asp\">4星彩</a>\n",
       "<ul>\n",
       "<li class=\"img_logo06\"></li>\n",
       "<div class=\"dotted00_2\">\n",
       "</div>\n",
       "<li><a href=\"4D/index.asp\">遊戲介紹</a></li>\n",
       "<div class=\"dotted00_2\">\n",
       "</div>\n",
       "<li><a href=\"lotto/4D/history.aspx\">各期獎號與開獎結果</a></li>\n",
       "<div class=\"dotted00_2\">\n",
       "</div>\n",
       "<li><a href=\"4D/schedule.asp\">開獎時間</a></li>\n",
       "<div class=\"dotted00_2\">\n",
       "</div>\n",
       "<li><a href=\"Info/number/frequency_4D.aspx?GAME=4D\">冷熱門球號</a></li>\n",
       "</ul>\n",
       "</li>\n",
       "<div class=\"dotted00\">\n",
       "</div>\n",
       "<li class=\"has_sub\"><a href=\"38M6/index.asp\">38樂合彩</a>\n",
       "<ul>\n",
       "<li class=\"img_logo07\"></li>\n",
       "<div class=\"dotted00_2\">\n",
       "</div>\n",
       "<li><a href=\"38M6/index.asp\">遊戲介紹</a></li>\n",
       "<div class=\"dotted00_2\">\n",
       "</div>\n",
       "<li><a href=\"lotto/38M6/history.aspx\">各期獎號與開獎結果</a></li>\n",
       "<div class=\"dotted00_2\">\n",
       "</div>\n",
       "<li><a href=\"38M6/schedule.asp\">開獎時間</a></li>\n",
       "<div class=\"dotted00_2\">\n",
       "</div>\n",
       "<li><a href=\"Info/number/frequency_38M.aspx?GAME=38\">冷熱門球號</a></li>\n",
       "</ul>\n",
       "</li>\n",
       "<div class=\"dotted00\">\n",
       "</div>\n",
       "<li class=\"has_sub\"><a href=\"49M6/index.asp\">49樂合彩</a>\n",
       "<ul>\n",
       "<li class=\"img_logo08\"></li>\n",
       "<div class=\"dotted00_2\">\n",
       "</div>\n",
       "<li><a href=\"49M6/index.asp\">遊戲介紹</a></li>\n",
       "<div class=\"dotted00_2\">\n",
       "</div>\n",
       "<li><a href=\"lotto/49M6/history.aspx\">各期獎號與開獎結果</a></li>\n",
       "<div class=\"dotted00_2\">\n",
       "</div>\n",
       "<li><a href=\"49M6/schedule.asp\">開獎時間</a></li>\n",
       "<div class=\"dotted00_2\">\n",
       "</div>\n",
       "<li><a href=\"Info/number/frequency_49M.aspx?GAME=49\">冷熱門球號</a></li>\n",
       "</ul>\n",
       "</li>\n",
       "<div class=\"dotted00\">\n",
       "</div>\n",
       "<li class=\"has_sub\"><a href=\"39M5/index.asp\">39樂合彩</a>\n",
       "<ul>\n",
       "<li class=\"img_logo09\"></li>\n",
       "<div class=\"dotted00_2\">\n",
       "</div>\n",
       "<li><a href=\"39M5/index.asp\">遊戲介紹</a></li>\n",
       "<div class=\"dotted00_2\">\n",
       "</div>\n",
       "<li><a href=\"lotto/39M5/history.aspx\">各期獎號與開獎結果</a></li>\n",
       "<div class=\"dotted00_2\">\n",
       "</div>\n",
       "<li><a href=\"39M5/schedule.asp\">開獎時間</a></li>\n",
       "<div class=\"dotted00_2\">\n",
       "</div>\n",
       "<li><a href=\"Info/number/frequency_39M.aspx?GAME=39\">冷熱門球號</a></li>\n",
       "</ul>\n",
       "</li>\n",
       "<div class=\"dotted00\">\n",
       "</div>\n",
       "<li class=\"has_sub\"><span>「加開獎項」加碼活動專區</span>\n",
       "<ul>\n",
       "<li><a href=\"/DBF2023/DBF2023.asp\">112年端午加碼活動辦法</a></li>\n",
       "<div class=\"dotted00_2\">\n",
       "</div>\n",
       "<li>各期獎號與開獎結果</li>\n",
       "<!-- -->\n",
       "<li class=\"third_sub\"><a href=\"/lotto/AnnualGreatEvent/DragonBoatFestival2023/DragonBoat2023_index.aspx\">\n",
       "                        112年端午加碼</a></li>\n",
       "<li class=\"third_sub\"><a href=\"/Lotto/AnnualGreatEvent/BigRedPacket2023/bigred_index_result112.aspx\">\n",
       "                        112年春節加碼</a></li>\n",
       "<li class=\"third_sub\"><a href=\"/lotto/AnnualGreatEvent/MoonFestival2022/MoonFestival2022_index.aspx\">\n",
       "                        111年中秋加碼</a></li>\n",
       "<li class=\"third_sub\"><a href=\"/lotto/AnnualGreatEvent/DragonBoatFestival2022/DragonBoat2022_index.aspx\">\n",
       "                        111年端午加碼</a></li>\n",
       "<li class=\"third_sub\"><a href=\"/Lotto/AnnualGreatEvent/BigRedPacket2022/bigred_index_result111.aspx\">\n",
       "                        111年春節加碼</a></li>\n",
       "<li class=\"third_sub\"><a href=\"/lotto/AnnualGreatEvent/MoonFestival2021/MoonFestival_index_result110.aspx\">\n",
       "                        110年中秋雙十加碼</a></li>\n",
       "<li class=\"third_sub\"><a href=\"/lotto/AnnualGreatEvent/BigRedPacket2021/bigred_index_result110.aspx\">\n",
       "                        110年春節加碼</a></li>\n",
       "<li class=\"third_sub\"><a href=\"/lotto/AnnualGreatEvent/MoonFestival2020/MoonFestival2020_index.aspx\">\n",
       "                        109年中秋加碼</a></li>\n",
       "<li class=\"third_sub\"><a href=\"/lotto/AnnualGreatEvent/DragonBoatFestival2020/DragonBoat2020_index.aspx\">\n",
       "                        109年端午加碼</a></li>\n",
       "<li class=\"third_sub\"><a href=\"/lotto/AnnualGreatEvent/BigRedPacket2020/bigred_index109.aspx\">\n",
       "                        109年春節加碼</a></li>\n",
       "<li class=\"third_sub\"><a href=\"/lotto/AnnualGreatEvent/MoonFestival2019/MoonFestival2019_index.aspx\">\n",
       "                        108年中秋加碼</a></li>\n",
       "<li class=\"third_sub\"><a href=\"/lotto/AnnualGreatEvent/DragonBoatFestival2019/DragonBoat2019_index.aspx\">\n",
       "                        108年端午加碼</a></li>\n",
       "<li class=\"third_sub\"><a href=\"/lotto/AnnualGreatEvent/BigRedPacket2019/bigred_index108.aspx\">\n",
       "                        108年春節加碼</a></li>\n",
       "<li class=\"third_sub\"><a href=\"/lotto/AnnualGreatEvent/MoonFestival2018/MoonFestival_index107.aspx\">\n",
       "                        107年中秋加碼</a></li>\n",
       "<li class=\"third_sub\"><a href=\"/lotto/AnnualGreatEvent/DragonBoatFestival2018/DragonBoatFestival2018index.aspx\">\n",
       "                        107年端午加碼</a></li>\n",
       "<li class=\"third_sub\"><a href=\"/lotto/AnnualGreatEvent/BigRedPacket2018/bigred_index_result107.aspx\">\n",
       "                        107年春節加碼</a></li>\n",
       "<li class=\"third_sub\"><a href=\"/lotto/AnnualGreatEvent/MoonFestival2017/MoonFestival2017index.aspx\">\n",
       "                        106年中秋加碼</a></li>\n",
       "<li class=\"third_sub\"><a href=\"/lotto/AnnualGreatEvent/DragonBoatFestival2017/bigred_index106.aspx\">\n",
       "                        106年端午加碼</a></li>\n",
       "<li class=\"third_sub\"><a href=\"/lotto/AnnualGreatEvent/BigRedPacket2017/bigred_index_result106.aspx\">\n",
       "                        106年春節加碼</a></li>\n",
       "<li class=\"third_sub\"><a href=\"/lotto/DoubleTen2016/DoubleTen2016index.aspx\">\n",
       "                        105年雙十國慶加碼</a></li>\n",
       "<li class=\"third_sub\"><a href=\"/lotto/DBF/DragonBoatFestival2016index.aspx\">\n",
       "                        105年端午加碼</a></li>\n",
       "<li class=\"third_sub\"><a href=\"/lotto/AnnualGreatEvent/BigRedPacket2016/bigred_index_result105.aspx\">\n",
       "                        105年春節加碼</a></li>\n",
       "<li class=\"third_sub\"><a href=\"/lotto/AnnualGreatEvent/BigRedPacket2015/bigred_index_result.aspx\">\n",
       "                        104年春節加碼</a></li>\n",
       "<li class=\"third_sub\"><a href=\"/lotto/AnnualGreatEvent/BigRedPacket2014/bigred_index_result.aspx\">\n",
       "                        103年春節加碼</a></li>\n",
       "<!--li><a href=\"#\" onclick=\"window.parent.location.href='http://www.taiwanlottery.com.tw/lotto/AnnualGreatEvent/BigRedPacket2014/bigred_index_result.aspx';\">\n",
       "                        各期獎號與開獎結果 </a></li-->\n",
       "<div class=\"dotted00_2\">\n",
       "</div>\n",
       "</ul>\n",
       "</li>\n",
       "<div class=\"dotted00\">\n",
       "</div>\n",
       "<li class=\"has_sub\"><a href=\"instant/index.asp\">刮刮樂</a>\n",
       "<ul>\n",
       "<li class=\"img_logo10\"></li>\n",
       "<div class=\"dotted00_2\">\n",
       "</div>\n",
       "<li><a href=\"instant/index.asp\">刮刮樂介紹</a></li>\n",
       "<div class=\"dotted00_2\">\n",
       "</div>\n",
       "<li><a href=\"instant/games.asp\">熱賣中刮刮樂</a></li>\n",
       "<div class=\"dotted00_2\">\n",
       "</div>\n",
       "<li><a href=\"instant/preview.asp\">刮刮樂預告</a></li>\n",
       "<div class=\"dotted00_2\">\n",
       "</div>\n",
       "<li><a href=\"info/instant/sale.aspx\">刮刮樂銷售資訊</a></li>\n",
       "</ul>\n",
       "</li>\n",
       "<div class=\"dotted00\">\n",
       "</div>\n",
       "<li class=\"has_sub\"><a href=\"info/news/news.aspx\">新聞及公告</a>\n",
       "<ul>\n",
       "<li><a href=\"info/news/news.aspx\">新聞發佈</a></li>\n",
       "<div class=\"dotted00_2\">\n",
       "</div>\n",
       "<li><a href=\"info/info/info.aspx\">公告事項</a></li>\n",
       "</ul>\n",
       "</li>\n",
       "<div class=\"dotted00\">\n",
       "</div>\n",
       "<li class=\"has_sub\"><span>彩券資訊通</span>\n",
       "<ul class=\"info_lotto_reloc\">\n",
       "<li><a href=\"info/lotto/data_SL638.aspx\">威力彩統計資料</a></li>\n",
       "<div class=\"dotted00_2\">\n",
       "</div>\n",
       "<li><a href=\"info/lotto/data_649.aspx\">大樂透統計資料</a></li>\n",
       "<div class=\"dotted00_2\">\n",
       "</div>\n",
       "<!--li><a href=\"#\" onclick=\"window.parent.location.href='info/lotto/data_740.aspx';\">大福彩統計資料</a></li>\n",
       "                    \n",
       "                    <div class=\"dotted00_2\">\n",
       "                    </div-->\n",
       "<li><a href=\"info/lotto/data_539.aspx\">今彩539統計資料</a></li>\n",
       "<div class=\"dotted00_2\">\n",
       "</div>\n",
       "<li><a href=\"info/lotto/data_1224.aspx\">雙贏彩統計資料</a></li>\n",
       "<div class=\"dotted00_2\">\n",
       "</div>\n",
       "<li><a href=\"info/download_history.asp\">第4屆各期獎號下載</a></li>\n",
       "<div class=\"dotted00_2\">\n",
       "</div>\n",
       "<li>第4屆下市遊戲各期獎號</li>\n",
       "<li class=\"third_sub\"><a href=\"/Lotto/Lotto740/history.aspx\">\n",
       "                        大福彩</a></li>\n",
       "<li>96-102年各期獎號</li>\n",
       "<li class=\"third_sub\"><a href=\"/3th_lotto/SuperLotto638/history.aspx\">\n",
       "                        威力彩</a></li>\n",
       "<li class=\"third_sub\"><a href=\"/3th_lotto/lotto649/history.aspx\">\n",
       "                        大樂透</a></li>\n",
       "<!--li class=\"third_sub\"><a href=\"/3th_lotto/BingoBingo/drawing.aspx\">\n",
       "                        BINGO BINGO賓果賓果</a></li-->\n",
       "<li class=\"third_sub\"><a href=\"/3th_lotto/DailyCash/history.aspx\">\n",
       "                        今彩539</a></li>\n",
       "<li class=\"third_sub\"><a href=\"/3th_lotto/3D/history.aspx\">\n",
       "                        3星彩</a></li>\n",
       "<li class=\"third_sub\"><a href=\"/3th_lotto/4D/history.aspx\">\n",
       "                        4星彩</a></li>\n",
       "<li class=\"third_sub\"><a href=\"/3th_lotto/38M6/history.aspx\">\n",
       "                        38樂合彩</a></li>\n",
       "<li class=\"third_sub\"><a href=\"/3th_lotto/49M6/history.aspx\">\n",
       "                        49樂合彩</a></li>\n",
       "<li class=\"third_sub\"><a href=\"/3th_lotto/39M5/history.aspx\">\n",
       "                        39樂合彩</a></li>\n",
       "<li class=\"third_sub\"><a href=\"/3th_lotto/AnnualGreatEvent2013/Result_allAnnual2013.aspx\">\n",
       "                        102年「春節大紅包」獎號<br/>\n",
       "                        與開獎結果</a></li>\n",
       "<li class=\"third_sub\"><a href=\"/3th_lotto/AnnualGreatEvent/result_allAnnual2012.aspx\">\n",
       "                        101年龍年新春加碼「大紅包」<br/>\n",
       "                        獎號與開獎結果</a></li>\n",
       "<li class=\"third_sub\"><a href=\"/3th_lotto/mega/result_all.aspx\">\n",
       "                        100年「100組百萬獎金」獎號<br/>\n",
       "                        與開獎結果</a></li>\n",
       "<li class=\"third_sub\"><a href=\"/3th_lotto/TTT/history.aspx\">\n",
       "                        樂線九宮格</a></li>\n",
       "<li class=\"third_sub\"><a href=\"http://www.taiwanlottery.com.tw/3th_Lotto/Lotto638/history.aspx\">6/38樂透彩</a></li>\n",
       "<div class=\"dotted00_2\">\n",
       "</div>\n",
       "<li><a href=\"/3th_lottery_1230/info/instant/sale.aspx\">96-102年刮刮樂銷售資訊</a></li>\n",
       "</ul>\n",
       "</li>\n",
       "<!--/li-->\n",
       "<div class=\"dotted00\">\n",
       "</div>\n",
       "<li class=\"has_sub\"><a href=\"runlottery/runlottery.asp\">開獎專區</a>\n",
       "<ul>\n",
       "<li><a href=\"runlottery/runlottery.asp\">開獎流程</a></li>\n",
       "<div class=\"dotted00_2\">\n",
       "</div>\n",
       "<li><a href=\"runlottery/schedule.asp\">開獎時間</a></li>\n",
       "<div class=\"dotted00_2\">\n",
       "</div>\n",
       "<li><a href=\"faq/faq.asp\">開獎問與答</a></li>\n",
       "<div class=\"dotted00_2\">\n",
       "</div>\n",
       "<li><a href=\"https://www.youtube.com/channel/UCK1Zh_2KvKKFkDBCSYuLjAw\" target=\"_blank\">開獎實況轉播</a></li>\n",
       "</ul>\n",
       "</li>\n",
       "<div class=\"dotted00\">\n",
       "</div>\n",
       "<li class=\"has_sub\"><a href=\"/agencyap/login.asp\">經銷商專區</a>\n",
       "<ul>\n",
       "<!--li><a href=\"/agencyap/financialLogin.aspx\">紓困補助申請</a></li>\n",
       "                    \n",
       "                    <div class=\"dotted00_2\">\n",
       "                    </div>\n",
       "                    \n",
       "                    <li><a href=\"#\" onclick=\"window.parent.location.href='/agencyap/news.asp';\">公告事項</a></li>\n",
       "\n",
       "                    <div class=\"dotted00_2\">\n",
       "                    </div-->\n",
       "<li><a href=\"/agencyap/login.asp\">經銷商登入</a></li>\n",
       "<div class=\"dotted00_2\">\n",
       "</div>\n",
       "<!--li><a href=\"#\" onclick=\"window.parent.location.href='/agencyap/agencyap_online_login.aspx';\">\n",
       "                        電腦型經銷商登入</a></li>\n",
       "\n",
       "                    <div class=\"dotted00_2\">\n",
       "                    </div>\n",
       "\n",
       "                    <li><a href=\"#\" onclick=\"window.parent.location.href='/agencyap/agencyap_instant_login.aspx';\">\n",
       "                        立即型經銷商登入</a></li>\n",
       "\n",
       "                    <div class=\"dotted00_2\">\n",
       "                    </div-->\n",
       "<li><a href=\"/agencyap/agency_se_login.aspx\">批售兌獎處登入</a></li>\n",
       "<div class=\"dotted00_2\">\n",
       "</div>\n",
       "<li><a href=\"/agencyap/pinchhit.asp\">遞補順序</a></li>\n",
       "<div class=\"dotted00_2\">\n",
       "</div>\n",
       "<!--li><a href=\"agencyap/rules.asp\">遴選及管理要點</a></li>\n",
       "                    \n",
       "                    <div class=\"dotted00_2\">\n",
       "                    </div-->\n",
       "<li><a href=\"agencyap/join.asp\">我想要賣刮刮樂</a></li>\n",
       "<div class=\"dotted00_2\">\n",
       "</div>\n",
       "<!--li><a href=\"#\" onclick=\"window.parent.location.href='/agencyap/online_audition.aspx';\">\n",
       "                        有意願擔任代理人查詢</a></li-->\n",
       "<div class=\"dotted00_2\">\n",
       "</div>\n",
       "<li><a href=\"/prevent.asp\">經銷商防疫專區</a></li>\n",
       "</ul>\n",
       "</li>\n",
       "<div class=\"dotted00\">\n",
       "</div>\n",
       "<!--li class=\"has_sub\"><a href=\"#\" onclick=\"window.parent.location.href='https://selection.taiwanlottery.com.tw';\">\n",
       "                電腦型經銷商遴選報名</a>\n",
       "\t\t\t\t    <ul>\n",
       "                    <li><a href=\"#\" onclick=\"window.parent.location.href='https://selection.taiwanlottery.com.tw';\">電腦型經銷商遴選報名</a></li>\n",
       "\t\t\t\t\t</ul>\n",
       "            </li>\n",
       "\t\t\t\n",
       "\t\t\t\n",
       "            <div class=\"dotted00\">\n",
       "            </div-->\n",
       "<li class=\"has_sub\"><a href=\"faq/faq.asp\">常見問答</a>\n",
       "<ul>\n",
       "<li><a href=\"faq/faq.asp\">開獎</a></li>\n",
       "<div class=\"dotted00_2\">\n",
       "</div>\n",
       "<li><a href=\"faq/faq_faq01.asp\">兌獎</a></li>\n",
       "<div class=\"dotted00_2\">\n",
       "</div>\n",
       "<li><a href=\"faq/faq_faq02.asp\">彩券玩法</a></li>\n",
       "<div class=\"dotted00_2\">\n",
       "</div>\n",
       "<li><a href=\"faq/faq_faq03.asp\">經銷商</a></li>\n",
       "<div class=\"dotted00_2\">\n",
       "</div>\n",
       "<li><a href=\"faq/faq_faq04.asp\">稅賦與佣金</a></li>\n",
       "<div class=\"dotted00_2\"></div>\n",
       "<li><a href=\"faq/faq_faq05.asp\">問題公益彩券申請及處理</a></li>\n",
       "</ul>\n",
       "</li>\n",
       "<div class=\"dotted00\">\n",
       "</div>\n",
       "<li class=\"has_sub\"><a href=\"about/howtoplay.asp\">投注方式與兌獎</a>\n",
       "<ul>\n",
       "<li><a href=\"about/howtoplay.asp\">投注方式</a></li>\n",
       "<div class=\"dotted00_2\">\n",
       "</div>\n",
       "<li><a href=\"Lotto/se/salelocation.aspx\">銷售地點</a></li>\n",
       "<div class=\"dotted00_2\">\n",
       "</div>\n",
       "<li><a href=\"about/bonus.asp\">如何兌領獎金</a></li>\n",
       "<div class=\"dotted00_2\">\n",
       "</div>\n",
       "<li><a href=\"Lotto/se/location.aspx\">批售兌獎處</a></li>\n",
       "</ul>\n",
       "</li>\n",
       "<div class=\"dotted00\">\n",
       "</div>\n",
       "<li class=\"has_sub\"><a href=\"/info/welfare/profit.asp\">愛心公益</a>\n",
       "<ul>\n",
       "<li><a href=\"/info/welfare/profit.asp\">公益彩券盈餘分配比率</a></li>\n",
       "<div class=\"dotted00_2\">\n",
       "</div>\n",
       "<li><a href=\"/info/welfare/welfare_profit4.aspx\">公益彩券各直轄市、縣（市）　 政府盈餘分配撥付表</a></li>\n",
       "<li class=\"third_sub\"><a href=\"/3th_lottery_1230/info/welfare/profit2.aspx\">96-102年公益彩券盈餘分配表</a></li>\n",
       "<div class=\"dotted00_2\">\n",
       "</div>\n",
       "<li><a href=\"/info/welfare/welfare_profit5.aspx\">公益彩券營業報告書簡表</a></li>\n",
       "<li class=\"third_sub\"><a href=\"/3th_lottery_1230/info/welfare/profit3.aspx\">96-102年營業報告書簡表</a></li>\n",
       "</ul>\n",
       "</li>\n",
       "<div class=\"dotted00\">\n",
       "</div>\n",
       "<li class=\"has_sub\"><a href=\"AgencyRule/AgencyRule.asp\">公益彩券相關法規</a>\n",
       "<ul>\n",
       "<li><a href=\"AgencyRule/rules1.asp\">發行條例</a></li>\n",
       "<div class=\"dotted00_2\">\n",
       "</div>\n",
       "<li><a href=\"AgencyRule/rules2.asp\">管理辦法</a></li>\n",
       "<div class=\"dotted00_2\">\n",
       "</div>\n",
       "<li><a href=\"AgencyRule/rules3.asp\">第4屆公益彩券經銷商遴選<br/>及管理要點</a></li>\n",
       "<li class=\"third_sub\"><a href=\"/AgencyRule/AgencyRule_news.asp\">修訂公告</a></li>\n",
       "<div class=\"dotted00_2\">\n",
       "</div>\n",
       "<li><a href=\"AgencyRule/rules4.asp\">第4屆公益彩券傳統型及<br/>立即型彩券批購作業規範</a></li>\n",
       "<li class=\"third_sub\"><a href=\"/AgencyRule/AgencyRule_news2.asp\">修訂公告</a></li>\n",
       "</ul>\n",
       "</li>\n",
       "<div class=\"dotted00\">\n",
       "</div>\n",
       "</ul>\n",
       "</div>\n",
       "<div id=\"qrcode\">\n",
       "<p> </p>\n",
       "<p><img src=\"images/qrcode.png\"/>\n",
       "</p>\n",
       "<p>\n",
       "                       台灣彩券</p>\n",
       "<br/>\n",
       "</div>\n",
       "</div>\n",
       "<div id=\"right_top\">\n",
       "<!--***************預估頭彩區塊***************-->\n",
       "<div id=\"top_dollarbox\"> <img id=\"imgPowerLottery\" src=\"images/logo_totbox_01.jpg\"/> <img id=\"imgBigLottery\" src=\"images/logo_totbox_02.jpg\"/> <!--img id=\"imgFLottery\" src=\"images/logo_totbox_03.jpg\" /-->\n",
       "<img id=\"dodo01\" src=\"images/dodo.gif\"/> <img id=\"dodo02\" src=\"images/dodo.gif\"/> <img id=\"dodo03\" src=\"images/dodo.gif\"/> <img id=\"dodo04\" src=\"images/dodo.gif\"/> <img id=\"dodo05\" src=\"images/dodo.gif\"/> <img id=\"dodo06\" src=\"images/dodo.gif\"/><!--img id=\"dodo07\" src=\"images/dodo.gif\" /><img id=\"dodo08\" src=\"images/dodo.gif\" /><img id=\"dodo09\" src=\"images/dodo.gif\" /-->\n",
       "<div class=\"dollar_right\">目前頭獎預估金額</div>\n",
       "<div class=\"top_dollar_tx\">\n",
       "<span id=\"lMoney38\">$</span>\n",
       "<!--***************威力彩***************-->\n",
       "<div class=\"top_dollar\">0200000000</div>\n",
       "</div>\n",
       "<!--ContentArea 威力彩預估金額 End-->\n",
       "<br/>\n",
       "<hr/>\n",
       "<div class=\"top_dollar_tx\">\n",
       "<span id=\"lMoney49\">$</span>\n",
       "<!--ContentArea 大樂透預估金額 Start-->\n",
       "<div class=\"top_dollar\">0100000000</div>\n",
       "</div>\n",
       "<!--ContentArea 大樂透預估金額 End-->\n",
       "<br/>\n",
       "<hr/>\n",
       "<!--div class=\"top_dollar_tx\">$\n",
       "        <ContentArea 大福彩預估金額 Start>\n",
       "        <div class=\"top_dollar\">\n",
       "          \n",
       "        </div>\n",
       "      </div-->\n",
       "</div>\n",
       "<div id=\"right_side\">\n",
       "<!-- *輪播區* -->\n",
       "<div class=\"banner\" id=\"bannerSpan\"></div>\n",
       "<!-- *輪播區* -->\n",
       "</div>\n",
       "<!--***************最新消息區塊***************-->\n",
       "<div id=\"top_news\">\n",
       "<div class=\"top_news_title\">最新消息 <span class=\"font_glay10\">ＨＯＴ ＮＥＷＳ </span>\n",
       "<div class=\"font_glay10\" id=\"more_right\"><a href=\"info/news/news.aspx\">more&gt;</a></div>\n",
       "</div>\n",
       "<hr color=\"#FF0000\" size=\"2\" style=\"margin-bottom:0px\"/>\n",
       "<div class=\"font_glay14_indexNews\">\n",
       "<ul>\n",
       "<li style=\"height:2px;padding:0;border:0;background-position:-300px\">\n",
       "</li>\n",
       "<li><a href=\"/news/DrawNumber.aspx\" style=\"font-weight:bold;\">\n",
       "<span class=\"date\">\n",
       "</span>最新開獎獎號一覽表</a></li>\n",
       "<li><a href=\"/news/IN1120629news_detail_854.asp\"><span class=\"date\">[112/6/29]</span>立即型彩券「鑽很大」與「獎金倍倍樂」上市公告</a></li><li><a href=\"/news/PR1120628news_detail_855.asp\"><span class=\"date\">[112/6/28]</span>第5屆電腦型彩券經銷商遴選測驗作業近日正在進行中 針對外界…</a></li><li><a href=\"/news/AS1120621news_detail_853.asp\"><span class=\"date\">[112/6/21]</span>112年5月份公益彩券盈餘21.48億元　挹注政府各項社福…</a></li><li><a href=\"/news/CH1120606news_detail_852.asp\"><span class=\"date\">[112/6/6]</span>中國信託商業銀行舉辦第5屆公益彩券電腦型彩券經銷商遴選測驗…</a></li>\n",
       "</ul>\n",
       "</div>\n",
       "<div class=\"top_news_title\">重點資訊 <span class=\"font_glay10\">ＡＮＮＯＵＮＣＥＭＥＮＴ </span>\n",
       "<div class=\"font_glay10\" id=\"Div1\"></div>\n",
       "</div>\n",
       "<hr color=\"#FF0000\" size=\"2\" style=\"margin-bottom:0px\"/>\n",
       "<div class=\"font_glay14_indexNews\">\n",
       "<ul>\n",
       "<li style=\"height:2px;padding:0;border:0;background-position:-300px\">\n",
       "</li>\n",
       "<li><a href=\"/news/AS1080920news_detail_540.asp\">\n",
       "<span class=\"date\">\n",
       "</span>公益彩券中獎獎金免稅門檻提高為新臺幣5,000元</a></li>\n",
       "<li><a href=\"/news/ON1070904news_detail_431.asp\">\n",
       "<span class=\"date\">\n",
       "</span>專業人士參觀本公司開獎電視台及開獎流程影音連結</a></li>\n",
       "<li><a href=\"/news/ON1050905news_detail_242.asp\">\n",
       "<span class=\"date\">\n",
       "</span>台彩嚴正駁斥網路「開獎不實」傳聞</a></li>\n",
       "</ul>\n",
       "</div>\n",
       "</div>\n",
       "</div>\n",
       "<div id=\"rightdown\">\n",
       "<!--***************BINGO BINGO**************-->\n",
       "<div class=\"contents_box01\">\n",
       "<div id=\"contents_logo_01\"> </div><div class=\"contents_mine_tx01\"><span class=\"font_black15\">112/7/1 第112036816期 </span> <span class=\"font_red14\"><a href=\"/Lotto/BingoBingo/history.aspx\">開獎結果</a> ｜ <a href=\"/Lotto/BingoBingo/drawing.aspx\">各期獎號查詢</a><a href=\"/lotto/BingoBingo/OEHLStatistic.htm\"><div id=\"contents_logo_01-2\"></div></a></span></div><div class=\"contents_mine_tx04\">開出獎號</div><div class=\"ball_box01\"><div class=\"ball_tx ball_yellow\">09 </div><div class=\"ball_tx ball_yellow\">13 </div><div class=\"ball_tx ball_yellow\">14 </div><div class=\"ball_tx ball_yellow\">15 </div><div class=\"ball_tx ball_yellow\">16 </div><div class=\"ball_tx ball_yellow\">18 </div><div class=\"ball_tx ball_yellow\">19 </div><div class=\"ball_tx ball_yellow\">23 </div><div class=\"ball_tx ball_yellow\">25 </div><div class=\"ball_tx ball_yellow\">27 </div><div class=\"ball_tx ball_yellow\">28 </div><div class=\"ball_tx ball_yellow\">33 </div><div class=\"ball_tx ball_yellow\">39 </div><div class=\"ball_tx ball_yellow\">40 </div><div class=\"ball_tx ball_yellow\">48 </div><div class=\"ball_tx ball_yellow\">62 </div><div class=\"ball_tx ball_yellow\">64 </div><div class=\"ball_tx ball_yellow\">69 </div><div class=\"ball_tx ball_yellow\">72 </div><div class=\"ball_tx ball_yellow\">73 </div></div><div class=\"contents_mine_tx08\">&amp;nbsp&amp;nbsp超級<br/>&amp;nbsp&amp;nbsp獎號<br/><div class=\"ball_red\">48</div></div><div class=\"contents_mine_tx08\">&amp;nbsp&amp;nbsp&amp;nbsp猜<br/>&amp;nbsp大&amp;nbsp小<br/><div class=\"ball_blue_BB1\">小</div></div><div class=\"contents_mine_tx08\">&amp;nbsp&amp;nbsp&amp;nbsp猜<br/>&amp;nbsp單&amp;nbsp雙<br/><div class=\"ball_blue_BB2\">小單</div></div>\n",
       "</div>\n",
       "<div class=\"dotted01\"></div>\n",
       "<!--***************雙贏彩區塊***************-->\n",
       "<div class=\"contents_box06\">\n",
       "<div id=\"contents_logo_11\"></div><div class=\"contents_mine_tx09\"><span class=\"font_black15\">112/6/30 第112000155期 </span><span class=\"font_red14\"><a href=\"Result_all.aspx#12\">開獎結果</a></span></div><div class=\"contents_mine_tx04\">開出順序<br/>大小順序</div><div class=\"ball_tx ball_blue\">15 </div><div class=\"ball_tx ball_blue\">20 </div><div class=\"ball_tx ball_blue\">16 </div><div class=\"ball_tx ball_blue\">02 </div><div class=\"ball_tx ball_blue\">06 </div><div class=\"ball_tx ball_blue\">24 </div><div class=\"ball_tx ball_blue\">01 </div><div class=\"ball_tx ball_blue\">10 </div><div class=\"ball_tx ball_blue\">07 </div><div class=\"ball_tx ball_blue\">12 </div><div class=\"ball_tx ball_blue\">05 </div><div class=\"ball_tx ball_blue\">14 </div><div class=\"ball_tx ball_blue\">01 </div><div class=\"ball_tx ball_blue\">02 </div><div class=\"ball_tx ball_blue\">05 </div><div class=\"ball_tx ball_blue\">06 </div><div class=\"ball_tx ball_blue\">07 </div><div class=\"ball_tx ball_blue\">10 </div><div class=\"ball_tx ball_blue\">12 </div><div class=\"ball_tx ball_blue\">14 </div><div class=\"ball_tx ball_blue\">15 </div><div class=\"ball_tx ball_blue\">16 </div><div class=\"ball_tx ball_blue\">20 </div><div class=\"ball_tx ball_blue\">24 </div>\n",
       "</div>\n",
       "<div class=\"dotted01\"></div>\n",
       "<!--***************威力彩區塊***************-->\n",
       "<div class=\"contents_box02\">\n",
       "<div id=\"contents_logo_02\"></div><div class=\"contents_mine_tx02\"><span class=\"font_black15\">112/6/29 第112000052期 </span><span class=\"font_red14\"><a href=\"Result_all.aspx#01\">開獎結果</a></span></div><div class=\"contents_mine_tx04\">開出順序<br/>大小順序<br/>第二區</div><div class=\"ball_tx ball_green\">36 </div><div class=\"ball_tx ball_green\">27 </div><div class=\"ball_tx ball_green\">26 </div><div class=\"ball_tx ball_green\">29 </div><div class=\"ball_tx ball_green\">08 </div><div class=\"ball_tx ball_green\">01 </div><div class=\"ball_tx ball_green\">01 </div><div class=\"ball_tx ball_green\">08 </div><div class=\"ball_tx ball_green\">26 </div><div class=\"ball_tx ball_green\">27 </div><div class=\"ball_tx ball_green\">29 </div><div class=\"ball_tx ball_green\">36 </div><div class=\"ball_red\">02 </div>\n",
       "</div>\n",
       "<div class=\"dotted02\"></div>\n",
       "<!--***************38樂合彩區塊***************-->\n",
       "<div class=\"contents_box02\">\n",
       "<div id=\"contents_logo_03\"></div><div class=\"contents_mine_tx02\"><span class=\"font_black15\">112/6/29 第112000052期 </span><span class=\"font_red14\"><a href=\"Result_all.aspx#07\">開獎結果</a></span></div><div class=\"contents_mine_tx04\">開出順序<br/>大小順序</div><div class=\"ball_tx ball_green\">36 </div><div class=\"ball_tx ball_green\">27 </div><div class=\"ball_tx ball_green\">26 </div><div class=\"ball_tx ball_green\">29 </div><div class=\"ball_tx ball_green\">08 </div><div class=\"ball_tx ball_green\">01 </div><div class=\"ball_tx ball_green\">01 </div><div class=\"ball_tx ball_green\">08 </div><div class=\"ball_tx ball_green\">26 </div><div class=\"ball_tx ball_green\">27 </div><div class=\"ball_tx ball_green\">29 </div><div class=\"ball_tx ball_green\">36 </div>\n",
       "</div>\n",
       "<div class=\"dotted01\"></div>\n",
       "<!--***************大樂透區塊***************-->\n",
       "<div class=\"contents_box02\">\n",
       "<div id=\"contents_logo_04\"></div><div class=\"contents_mine_tx02\"><span class=\"font_black15\">112/6/30 第112000064期 </span><span class=\"font_red14\"><a href=\"Result_all.aspx#02\">開獎結果</a></span></div><div class=\"contents_mine_tx04\">開出順序<br/>大小順序<br/>特別號</div><div class=\"ball_tx ball_yellow\">26 </div><div class=\"ball_tx ball_yellow\">06 </div><div class=\"ball_tx ball_yellow\">22 </div><div class=\"ball_tx ball_yellow\">29 </div><div class=\"ball_tx ball_yellow\">32 </div><div class=\"ball_tx ball_yellow\">43 </div><div class=\"ball_tx ball_yellow\">06 </div><div class=\"ball_tx ball_yellow\">22 </div><div class=\"ball_tx ball_yellow\">26 </div><div class=\"ball_tx ball_yellow\">29 </div><div class=\"ball_tx ball_yellow\">32 </div><div class=\"ball_tx ball_yellow\">43 </div><div class=\"ball_red\">38 </div>\n",
       "</div>\n",
       "<div class=\"dotted02\"></div>\n",
       "<!--***************49樂合彩區塊***************-->\n",
       "<div class=\"contents_box02\">\n",
       "<div id=\"contents_logo_05\"></div><div class=\"contents_mine_tx02\"><span class=\"font_black15\">112/6/30 第112000064期 </span><span class=\"font_red14\"><a href=\"Result_all.aspx#08\">開獎結果</a></span></div><div class=\"contents_mine_tx04\">開出順序<br/>大小順序</div><div class=\"ball_tx ball_yellow\">26 </div><div class=\"ball_tx ball_yellow\">06 </div><div class=\"ball_tx ball_yellow\">22 </div><div class=\"ball_tx ball_yellow\">29 </div><div class=\"ball_tx ball_yellow\">32 </div><div class=\"ball_tx ball_yellow\">43 </div><div class=\"ball_tx ball_yellow\">06 </div><div class=\"ball_tx ball_yellow\">22 </div><div class=\"ball_tx ball_yellow\">26 </div><div class=\"ball_tx ball_yellow\">29 </div><div class=\"ball_tx ball_yellow\">32 </div><div class=\"ball_tx ball_yellow\">43 </div>\n",
       "</div>\n",
       "<div class=\"dotted01\"></div>\n",
       "<!--***************大福彩區塊***************-->\n",
       "<!--div class=\"contents_box05\">\n",
       "      \n",
       "    </div-->\n",
       "<!--div class=\"dotted01\"></div-->\n",
       "<!--**************今彩539區塊**************-->\n",
       "<div class=\"contents_box03\">\n",
       "<div id=\"contents_logo_06\"></div><div class=\"contents_mine_tx02\"><span class=\"font_black15\">112/6/30 第112000155期 </span><span class=\"font_red14\"><a href=\"Result_all.aspx#03\">開獎結果</a></span></div><div class=\"contents_mine_tx04\">開出順序<br/>大小順序</div><div class=\"ball_tx ball_lemon\">36 </div><div class=\"ball_tx ball_lemon\">03 </div><div class=\"ball_tx ball_lemon\">20 </div><div class=\"ball_tx ball_lemon\">11 </div><div class=\"ball_tx ball_lemon\">30 </div><div class=\"ball_tx\"></div><div class=\"ball_tx ball_lemon\">03 </div><div class=\"ball_tx ball_lemon\">11 </div><div class=\"ball_tx ball_lemon\">20 </div><div class=\"ball_tx ball_lemon\">30 </div><div class=\"ball_tx ball_lemon\">36 </div>\n",
       "</div>\n",
       "<div class=\"dotted03\"></div>\n",
       "<!--**************39樂合彩區塊**************-->\n",
       "<div class=\"contents_box03\">\n",
       "<div id=\"contents_logo_07\"></div><div class=\"contents_mine_tx02\"><span class=\"font_black15\">112/6/30 第112000155期 </span><span class=\"font_red14\"><a href=\"Result_all.aspx#09\">開獎結果</a></span></div><div class=\"contents_mine_tx04\">開出順序<br/>大小順序</div><div class=\"ball_tx ball_lemon\">36 </div><div class=\"ball_tx ball_lemon\">03 </div><div class=\"ball_tx ball_lemon\">20 </div><div class=\"ball_tx ball_lemon\">11 </div><div class=\"ball_tx ball_lemon\">30 </div><div class=\"ball_tx\"></div><div class=\"ball_tx ball_lemon\">03 </div><div class=\"ball_tx ball_lemon\">11 </div><div class=\"ball_tx ball_lemon\">20 </div><div class=\"ball_tx ball_lemon\">30 </div><div class=\"ball_tx ball_lemon\">36 </div>\n",
       "</div>\n",
       "<div class=\"dotted01\"></div>\n",
       "<!--**************3星彩區塊**************-->\n",
       "<div class=\"contents_box04\">\n",
       "<div id=\"contents_logo_08\"></div><div class=\"contents_mine_tx02\"><span class=\"font_black15\">112/6/30 第112000155期 </span><span class=\"font_red14\"><a href=\"Result_all.aspx#05\">開獎結果</a></span></div><div class=\"contents_mine_tx04\">中獎號碼</div><div class=\"ball_tx ball_purple\">1</div><div class=\"ball_tx ball_purple\">9</div><div class=\"ball_tx ball_purple\">9</div>\n",
       "</div>\n",
       "<div class=\"dotted04\"></div>\n",
       "<!--**************4星彩區塊**************-->\n",
       "<div class=\"contents_box04\">\n",
       "<div id=\"contents_logo_09\"></div><div class=\"contents_mine_tx02\"><span class=\"font_black15\">112/6/30 第112000155期 </span><span class=\"font_red14\"><a href=\"Result_all.aspx#06\">開獎結果</a></span></div><div class=\"contents_mine_tx04\">中獎號碼</div><div class=\"ball_tx ball_purple\">7</div><div class=\"ball_tx ball_purple\">6</div><div class=\"ball_tx ball_purple\">4</div><div class=\"ball_tx ball_purple\">7</div>\n",
       "</div>\n",
       "</div>\n",
       "<iframe frameborder=\"0\" height=\"120\" scrolling=\"no\" src=\"fooder.asp\" width=\"1024\"> </iframe>\n",
       "<div class=\"scrollbar2\">未滿18歲者  不得購買或兌領彩券</div>\n",
       "</div>\n",
       "</form>\n",
       "</body>\n",
       "</html>\n",
       "<!--TLCEND//-->"
      ]
     },
     "execution_count": 3,
     "metadata": {},
     "output_type": "execute_result"
    }
   ],
   "source": [
    "soup = BeautifulSoup(resp.text,'lxml')\n",
    "soup"
   ]
  },
  {
   "cell_type": "code",
   "execution_count": 18,
   "id": "6d108b09",
   "metadata": {
    "collapsed": true
   },
   "outputs": [
    {
     "data": {
      "text/plain": [
       "<div id=\"rightdown\">\n",
       "<!--***************BINGO BINGO**************-->\n",
       "<div class=\"contents_box01\">\n",
       "<div id=\"contents_logo_01\"> </div><div class=\"contents_mine_tx01\"><span class=\"font_black15\">112/7/1 第112036816期 </span> <span class=\"font_red14\"><a href=\"/Lotto/BingoBingo/history.aspx\">開獎結果</a> ｜ <a href=\"/Lotto/BingoBingo/drawing.aspx\">各期獎號查詢</a><a href=\"/lotto/BingoBingo/OEHLStatistic.htm\"><div id=\"contents_logo_01-2\"></div></a></span></div><div class=\"contents_mine_tx04\">開出獎號</div><div class=\"ball_box01\"><div class=\"ball_tx ball_yellow\">09 </div><div class=\"ball_tx ball_yellow\">13 </div><div class=\"ball_tx ball_yellow\">14 </div><div class=\"ball_tx ball_yellow\">15 </div><div class=\"ball_tx ball_yellow\">16 </div><div class=\"ball_tx ball_yellow\">18 </div><div class=\"ball_tx ball_yellow\">19 </div><div class=\"ball_tx ball_yellow\">23 </div><div class=\"ball_tx ball_yellow\">25 </div><div class=\"ball_tx ball_yellow\">27 </div><div class=\"ball_tx ball_yellow\">28 </div><div class=\"ball_tx ball_yellow\">33 </div><div class=\"ball_tx ball_yellow\">39 </div><div class=\"ball_tx ball_yellow\">40 </div><div class=\"ball_tx ball_yellow\">48 </div><div class=\"ball_tx ball_yellow\">62 </div><div class=\"ball_tx ball_yellow\">64 </div><div class=\"ball_tx ball_yellow\">69 </div><div class=\"ball_tx ball_yellow\">72 </div><div class=\"ball_tx ball_yellow\">73 </div></div><div class=\"contents_mine_tx08\">&amp;nbsp&amp;nbsp超級<br/>&amp;nbsp&amp;nbsp獎號<br/><div class=\"ball_red\">48</div></div><div class=\"contents_mine_tx08\">&amp;nbsp&amp;nbsp&amp;nbsp猜<br/>&amp;nbsp大&amp;nbsp小<br/><div class=\"ball_blue_BB1\">小</div></div><div class=\"contents_mine_tx08\">&amp;nbsp&amp;nbsp&amp;nbsp猜<br/>&amp;nbsp單&amp;nbsp雙<br/><div class=\"ball_blue_BB2\">小單</div></div>\n",
       "</div>\n",
       "<div class=\"dotted01\"></div>\n",
       "<!--***************雙贏彩區塊***************-->\n",
       "<div class=\"contents_box06\">\n",
       "<div id=\"contents_logo_11\"></div><div class=\"contents_mine_tx09\"><span class=\"font_black15\">112/6/30 第112000155期 </span><span class=\"font_red14\"><a href=\"Result_all.aspx#12\">開獎結果</a></span></div><div class=\"contents_mine_tx04\">開出順序<br/>大小順序</div><div class=\"ball_tx ball_blue\">15 </div><div class=\"ball_tx ball_blue\">20 </div><div class=\"ball_tx ball_blue\">16 </div><div class=\"ball_tx ball_blue\">02 </div><div class=\"ball_tx ball_blue\">06 </div><div class=\"ball_tx ball_blue\">24 </div><div class=\"ball_tx ball_blue\">01 </div><div class=\"ball_tx ball_blue\">10 </div><div class=\"ball_tx ball_blue\">07 </div><div class=\"ball_tx ball_blue\">12 </div><div class=\"ball_tx ball_blue\">05 </div><div class=\"ball_tx ball_blue\">14 </div><div class=\"ball_tx ball_blue\">01 </div><div class=\"ball_tx ball_blue\">02 </div><div class=\"ball_tx ball_blue\">05 </div><div class=\"ball_tx ball_blue\">06 </div><div class=\"ball_tx ball_blue\">07 </div><div class=\"ball_tx ball_blue\">10 </div><div class=\"ball_tx ball_blue\">12 </div><div class=\"ball_tx ball_blue\">14 </div><div class=\"ball_tx ball_blue\">15 </div><div class=\"ball_tx ball_blue\">16 </div><div class=\"ball_tx ball_blue\">20 </div><div class=\"ball_tx ball_blue\">24 </div>\n",
       "</div>\n",
       "<div class=\"dotted01\"></div>\n",
       "<!--***************威力彩區塊***************-->\n",
       "<div class=\"contents_box02\">\n",
       "<div id=\"contents_logo_02\"></div><div class=\"contents_mine_tx02\"><span class=\"font_black15\">112/6/29 第112000052期 </span><span class=\"font_red14\"><a href=\"Result_all.aspx#01\">開獎結果</a></span></div><div class=\"contents_mine_tx04\">開出順序<br/>大小順序<br/>第二區</div><div class=\"ball_tx ball_green\">36 </div><div class=\"ball_tx ball_green\">27 </div><div class=\"ball_tx ball_green\">26 </div><div class=\"ball_tx ball_green\">29 </div><div class=\"ball_tx ball_green\">08 </div><div class=\"ball_tx ball_green\">01 </div><div class=\"ball_tx ball_green\">01 </div><div class=\"ball_tx ball_green\">08 </div><div class=\"ball_tx ball_green\">26 </div><div class=\"ball_tx ball_green\">27 </div><div class=\"ball_tx ball_green\">29 </div><div class=\"ball_tx ball_green\">36 </div><div class=\"ball_red\">02 </div>\n",
       "</div>\n",
       "<div class=\"dotted02\"></div>\n",
       "<!--***************38樂合彩區塊***************-->\n",
       "<div class=\"contents_box02\">\n",
       "<div id=\"contents_logo_03\"></div><div class=\"contents_mine_tx02\"><span class=\"font_black15\">112/6/29 第112000052期 </span><span class=\"font_red14\"><a href=\"Result_all.aspx#07\">開獎結果</a></span></div><div class=\"contents_mine_tx04\">開出順序<br/>大小順序</div><div class=\"ball_tx ball_green\">36 </div><div class=\"ball_tx ball_green\">27 </div><div class=\"ball_tx ball_green\">26 </div><div class=\"ball_tx ball_green\">29 </div><div class=\"ball_tx ball_green\">08 </div><div class=\"ball_tx ball_green\">01 </div><div class=\"ball_tx ball_green\">01 </div><div class=\"ball_tx ball_green\">08 </div><div class=\"ball_tx ball_green\">26 </div><div class=\"ball_tx ball_green\">27 </div><div class=\"ball_tx ball_green\">29 </div><div class=\"ball_tx ball_green\">36 </div>\n",
       "</div>\n",
       "<div class=\"dotted01\"></div>\n",
       "<!--***************大樂透區塊***************-->\n",
       "<div class=\"contents_box02\">\n",
       "<div id=\"contents_logo_04\"></div><div class=\"contents_mine_tx02\"><span class=\"font_black15\">112/6/30 第112000064期 </span><span class=\"font_red14\"><a href=\"Result_all.aspx#02\">開獎結果</a></span></div><div class=\"contents_mine_tx04\">開出順序<br/>大小順序<br/>特別號</div><div class=\"ball_tx ball_yellow\">26 </div><div class=\"ball_tx ball_yellow\">06 </div><div class=\"ball_tx ball_yellow\">22 </div><div class=\"ball_tx ball_yellow\">29 </div><div class=\"ball_tx ball_yellow\">32 </div><div class=\"ball_tx ball_yellow\">43 </div><div class=\"ball_tx ball_yellow\">06 </div><div class=\"ball_tx ball_yellow\">22 </div><div class=\"ball_tx ball_yellow\">26 </div><div class=\"ball_tx ball_yellow\">29 </div><div class=\"ball_tx ball_yellow\">32 </div><div class=\"ball_tx ball_yellow\">43 </div><div class=\"ball_red\">38 </div>\n",
       "</div>\n",
       "<div class=\"dotted02\"></div>\n",
       "<!--***************49樂合彩區塊***************-->\n",
       "<div class=\"contents_box02\">\n",
       "<div id=\"contents_logo_05\"></div><div class=\"contents_mine_tx02\"><span class=\"font_black15\">112/6/30 第112000064期 </span><span class=\"font_red14\"><a href=\"Result_all.aspx#08\">開獎結果</a></span></div><div class=\"contents_mine_tx04\">開出順序<br/>大小順序</div><div class=\"ball_tx ball_yellow\">26 </div><div class=\"ball_tx ball_yellow\">06 </div><div class=\"ball_tx ball_yellow\">22 </div><div class=\"ball_tx ball_yellow\">29 </div><div class=\"ball_tx ball_yellow\">32 </div><div class=\"ball_tx ball_yellow\">43 </div><div class=\"ball_tx ball_yellow\">06 </div><div class=\"ball_tx ball_yellow\">22 </div><div class=\"ball_tx ball_yellow\">26 </div><div class=\"ball_tx ball_yellow\">29 </div><div class=\"ball_tx ball_yellow\">32 </div><div class=\"ball_tx ball_yellow\">43 </div>\n",
       "</div>\n",
       "<div class=\"dotted01\"></div>\n",
       "<!--***************大福彩區塊***************-->\n",
       "<!--div class=\"contents_box05\">\n",
       "      \n",
       "    </div-->\n",
       "<!--div class=\"dotted01\"></div-->\n",
       "<!--**************今彩539區塊**************-->\n",
       "<div class=\"contents_box03\">\n",
       "<div id=\"contents_logo_06\"></div><div class=\"contents_mine_tx02\"><span class=\"font_black15\">112/6/30 第112000155期 </span><span class=\"font_red14\"><a href=\"Result_all.aspx#03\">開獎結果</a></span></div><div class=\"contents_mine_tx04\">開出順序<br/>大小順序</div><div class=\"ball_tx ball_lemon\">36 </div><div class=\"ball_tx ball_lemon\">03 </div><div class=\"ball_tx ball_lemon\">20 </div><div class=\"ball_tx ball_lemon\">11 </div><div class=\"ball_tx ball_lemon\">30 </div><div class=\"ball_tx\"></div><div class=\"ball_tx ball_lemon\">03 </div><div class=\"ball_tx ball_lemon\">11 </div><div class=\"ball_tx ball_lemon\">20 </div><div class=\"ball_tx ball_lemon\">30 </div><div class=\"ball_tx ball_lemon\">36 </div>\n",
       "</div>\n",
       "<div class=\"dotted03\"></div>\n",
       "<!--**************39樂合彩區塊**************-->\n",
       "<div class=\"contents_box03\">\n",
       "<div id=\"contents_logo_07\"></div><div class=\"contents_mine_tx02\"><span class=\"font_black15\">112/6/30 第112000155期 </span><span class=\"font_red14\"><a href=\"Result_all.aspx#09\">開獎結果</a></span></div><div class=\"contents_mine_tx04\">開出順序<br/>大小順序</div><div class=\"ball_tx ball_lemon\">36 </div><div class=\"ball_tx ball_lemon\">03 </div><div class=\"ball_tx ball_lemon\">20 </div><div class=\"ball_tx ball_lemon\">11 </div><div class=\"ball_tx ball_lemon\">30 </div><div class=\"ball_tx\"></div><div class=\"ball_tx ball_lemon\">03 </div><div class=\"ball_tx ball_lemon\">11 </div><div class=\"ball_tx ball_lemon\">20 </div><div class=\"ball_tx ball_lemon\">30 </div><div class=\"ball_tx ball_lemon\">36 </div>\n",
       "</div>\n",
       "<div class=\"dotted01\"></div>\n",
       "<!--**************3星彩區塊**************-->\n",
       "<div class=\"contents_box04\">\n",
       "<div id=\"contents_logo_08\"></div><div class=\"contents_mine_tx02\"><span class=\"font_black15\">112/6/30 第112000155期 </span><span class=\"font_red14\"><a href=\"Result_all.aspx#05\">開獎結果</a></span></div><div class=\"contents_mine_tx04\">中獎號碼</div><div class=\"ball_tx ball_purple\">1</div><div class=\"ball_tx ball_purple\">9</div><div class=\"ball_tx ball_purple\">9</div>\n",
       "</div>\n",
       "<div class=\"dotted04\"></div>\n",
       "<!--**************4星彩區塊**************-->\n",
       "<div class=\"contents_box04\">\n",
       "<div id=\"contents_logo_09\"></div><div class=\"contents_mine_tx02\"><span class=\"font_black15\">112/6/30 第112000155期 </span><span class=\"font_red14\"><a href=\"Result_all.aspx#06\">開獎結果</a></span></div><div class=\"contents_mine_tx04\">中獎號碼</div><div class=\"ball_tx ball_purple\">7</div><div class=\"ball_tx ball_purple\">6</div><div class=\"ball_tx ball_purple\">4</div><div class=\"ball_tx ball_purple\">7</div>\n",
       "</div>\n",
       "</div>"
      ]
     },
     "execution_count": 18,
     "metadata": {},
     "output_type": "execute_result"
    }
   ],
   "source": [
    "soup1 = soup.find('div',id = \"rightdown\")\n",
    "soup1"
   ]
  },
  {
   "cell_type": "code",
   "execution_count": 14,
   "id": "e7f62dee",
   "metadata": {},
   "outputs": [
    {
     "data": {
      "text/plain": [
       "bs4.element.Tag"
      ]
     },
     "execution_count": 14,
     "metadata": {},
     "output_type": "execute_result"
    }
   ],
   "source": [
    "type(soup)\n",
    "type(soup1)"
   ]
  },
  {
   "cell_type": "code",
   "execution_count": 25,
   "id": "712a5189",
   "metadata": {
    "collapsed": true
   },
   "outputs": [
    {
     "data": {
      "text/plain": [
       "[<div class=\"contents_box02\">\n",
       " <div id=\"contents_logo_02\"></div><div class=\"contents_mine_tx02\"><span class=\"font_black15\">112/6/29 第112000052期 </span><span class=\"font_red14\"><a href=\"Result_all.aspx#01\">開獎結果</a></span></div><div class=\"contents_mine_tx04\">開出順序<br/>大小順序<br/>第二區</div><div class=\"ball_tx ball_green\">36 </div><div class=\"ball_tx ball_green\">27 </div><div class=\"ball_tx ball_green\">26 </div><div class=\"ball_tx ball_green\">29 </div><div class=\"ball_tx ball_green\">08 </div><div class=\"ball_tx ball_green\">01 </div><div class=\"ball_tx ball_green\">01 </div><div class=\"ball_tx ball_green\">08 </div><div class=\"ball_tx ball_green\">26 </div><div class=\"ball_tx ball_green\">27 </div><div class=\"ball_tx ball_green\">29 </div><div class=\"ball_tx ball_green\">36 </div><div class=\"ball_red\">02 </div>\n",
       " </div>,\n",
       " <div class=\"contents_box02\">\n",
       " <div id=\"contents_logo_03\"></div><div class=\"contents_mine_tx02\"><span class=\"font_black15\">112/6/29 第112000052期 </span><span class=\"font_red14\"><a href=\"Result_all.aspx#07\">開獎結果</a></span></div><div class=\"contents_mine_tx04\">開出順序<br/>大小順序</div><div class=\"ball_tx ball_green\">36 </div><div class=\"ball_tx ball_green\">27 </div><div class=\"ball_tx ball_green\">26 </div><div class=\"ball_tx ball_green\">29 </div><div class=\"ball_tx ball_green\">08 </div><div class=\"ball_tx ball_green\">01 </div><div class=\"ball_tx ball_green\">01 </div><div class=\"ball_tx ball_green\">08 </div><div class=\"ball_tx ball_green\">26 </div><div class=\"ball_tx ball_green\">27 </div><div class=\"ball_tx ball_green\">29 </div><div class=\"ball_tx ball_green\">36 </div>\n",
       " </div>,\n",
       " <div class=\"contents_box02\">\n",
       " <div id=\"contents_logo_04\"></div><div class=\"contents_mine_tx02\"><span class=\"font_black15\">112/6/30 第112000064期 </span><span class=\"font_red14\"><a href=\"Result_all.aspx#02\">開獎結果</a></span></div><div class=\"contents_mine_tx04\">開出順序<br/>大小順序<br/>特別號</div><div class=\"ball_tx ball_yellow\">26 </div><div class=\"ball_tx ball_yellow\">06 </div><div class=\"ball_tx ball_yellow\">22 </div><div class=\"ball_tx ball_yellow\">29 </div><div class=\"ball_tx ball_yellow\">32 </div><div class=\"ball_tx ball_yellow\">43 </div><div class=\"ball_tx ball_yellow\">06 </div><div class=\"ball_tx ball_yellow\">22 </div><div class=\"ball_tx ball_yellow\">26 </div><div class=\"ball_tx ball_yellow\">29 </div><div class=\"ball_tx ball_yellow\">32 </div><div class=\"ball_tx ball_yellow\">43 </div><div class=\"ball_red\">38 </div>\n",
       " </div>,\n",
       " <div class=\"contents_box02\">\n",
       " <div id=\"contents_logo_05\"></div><div class=\"contents_mine_tx02\"><span class=\"font_black15\">112/6/30 第112000064期 </span><span class=\"font_red14\"><a href=\"Result_all.aspx#08\">開獎結果</a></span></div><div class=\"contents_mine_tx04\">開出順序<br/>大小順序</div><div class=\"ball_tx ball_yellow\">26 </div><div class=\"ball_tx ball_yellow\">06 </div><div class=\"ball_tx ball_yellow\">22 </div><div class=\"ball_tx ball_yellow\">29 </div><div class=\"ball_tx ball_yellow\">32 </div><div class=\"ball_tx ball_yellow\">43 </div><div class=\"ball_tx ball_yellow\">06 </div><div class=\"ball_tx ball_yellow\">22 </div><div class=\"ball_tx ball_yellow\">26 </div><div class=\"ball_tx ball_yellow\">29 </div><div class=\"ball_tx ball_yellow\">32 </div><div class=\"ball_tx ball_yellow\">43 </div>\n",
       " </div>]"
      ]
     },
     "execution_count": 25,
     "metadata": {},
     "output_type": "execute_result"
    }
   ],
   "source": [
    "soup2 = soup1.find_all('div',class_='contents_box02')\n",
    "soup2"
   ]
  },
  {
   "cell_type": "code",
   "execution_count": 28,
   "id": "5554c86b",
   "metadata": {
    "collapsed": true
   },
   "outputs": [
    {
     "data": {
      "text/plain": [
       "<div class=\"contents_box02\">\n",
       "<div id=\"contents_logo_02\"></div><div class=\"contents_mine_tx02\"><span class=\"font_black15\">112/6/29 第112000052期 </span><span class=\"font_red14\"><a href=\"Result_all.aspx#01\">開獎結果</a></span></div><div class=\"contents_mine_tx04\">開出順序<br/>大小順序<br/>第二區</div><div class=\"ball_tx ball_green\">36 </div><div class=\"ball_tx ball_green\">27 </div><div class=\"ball_tx ball_green\">26 </div><div class=\"ball_tx ball_green\">29 </div><div class=\"ball_tx ball_green\">08 </div><div class=\"ball_tx ball_green\">01 </div><div class=\"ball_tx ball_green\">01 </div><div class=\"ball_tx ball_green\">08 </div><div class=\"ball_tx ball_green\">26 </div><div class=\"ball_tx ball_green\">27 </div><div class=\"ball_tx ball_green\">29 </div><div class=\"ball_tx ball_green\">36 </div><div class=\"ball_red\">02 </div>\n",
       "</div>"
      ]
     },
     "execution_count": 28,
     "metadata": {},
     "output_type": "execute_result"
    }
   ],
   "source": [
    "soup3 = soup2[0]\n",
    "soup3"
   ]
  },
  {
   "cell_type": "code",
   "execution_count": 34,
   "id": "5cddc2c1",
   "metadata": {
    "collapsed": true
   },
   "outputs": [
    {
     "data": {
      "text/plain": [
       "[<div class=\"ball_tx ball_green\">36 </div>,\n",
       " <div class=\"ball_tx ball_green\">27 </div>,\n",
       " <div class=\"ball_tx ball_green\">26 </div>,\n",
       " <div class=\"ball_tx ball_green\">29 </div>,\n",
       " <div class=\"ball_tx ball_green\">08 </div>,\n",
       " <div class=\"ball_tx ball_green\">01 </div>,\n",
       " <div class=\"ball_tx ball_green\">01 </div>,\n",
       " <div class=\"ball_tx ball_green\">08 </div>,\n",
       " <div class=\"ball_tx ball_green\">26 </div>,\n",
       " <div class=\"ball_tx ball_green\">27 </div>,\n",
       " <div class=\"ball_tx ball_green\">29 </div>,\n",
       " <div class=\"ball_tx ball_green\">36 </div>]"
      ]
     },
     "execution_count": 34,
     "metadata": {},
     "output_type": "execute_result"
    }
   ],
   "source": [
    "soup4 = soup3.find_all('div',class_='ball_tx ball_green')\n",
    "soup4"
   ]
  },
  {
   "cell_type": "code",
   "execution_count": 35,
   "id": "14434e2b",
   "metadata": {
    "collapsed": true
   },
   "outputs": [
    {
     "name": "stdout",
     "output_type": "stream",
     "text": [
      "36\n",
      "27\n",
      "26\n",
      "29\n",
      "08\n",
      "01\n",
      "01\n",
      "08\n",
      "26\n",
      "27\n",
      "29\n",
      "36\n"
     ]
    }
   ],
   "source": [
    "for number in soup4:\n",
    "    print(number.text.strip())"
   ]
  },
  {
   "cell_type": "code",
   "execution_count": 36,
   "id": "3a9eac6f",
   "metadata": {},
   "outputs": [
    {
     "data": {
      "text/plain": [
       "[<span class=\"font_black15\">112/6/29 第112000052期 </span>]"
      ]
     },
     "execution_count": 36,
     "metadata": {},
     "output_type": "execute_result"
    }
   ],
   "source": [
    "soup5 = soup3.find_all('span',class_='font_black15')\n",
    "soup5"
   ]
  },
  {
   "cell_type": "code",
   "execution_count": 38,
   "id": "f9ce4b4e",
   "metadata": {},
   "outputs": [
    {
     "name": "stdout",
     "output_type": "stream",
     "text": [
      "112/6/29 第112000052期\n"
     ]
    }
   ],
   "source": [
    "for period in soup5:\n",
    "    print(period.text.strip())"
   ]
  },
  {
   "cell_type": "code",
   "execution_count": 39,
   "id": "267875ca",
   "metadata": {},
   "outputs": [
    {
     "data": {
      "text/plain": [
       "<div class=\"contents_box02\">\n",
       "<div id=\"contents_logo_04\"></div><div class=\"contents_mine_tx02\"><span class=\"font_black15\">112/6/30 第112000064期 </span><span class=\"font_red14\"><a href=\"Result_all.aspx#02\">開獎結果</a></span></div><div class=\"contents_mine_tx04\">開出順序<br/>大小順序<br/>特別號</div><div class=\"ball_tx ball_yellow\">26 </div><div class=\"ball_tx ball_yellow\">06 </div><div class=\"ball_tx ball_yellow\">22 </div><div class=\"ball_tx ball_yellow\">29 </div><div class=\"ball_tx ball_yellow\">32 </div><div class=\"ball_tx ball_yellow\">43 </div><div class=\"ball_tx ball_yellow\">06 </div><div class=\"ball_tx ball_yellow\">22 </div><div class=\"ball_tx ball_yellow\">26 </div><div class=\"ball_tx ball_yellow\">29 </div><div class=\"ball_tx ball_yellow\">32 </div><div class=\"ball_tx ball_yellow\">43 </div><div class=\"ball_red\">38 </div>\n",
       "</div>"
      ]
     },
     "execution_count": 39,
     "metadata": {},
     "output_type": "execute_result"
    }
   ],
   "source": [
    "soup2[2]"
   ]
  },
  {
   "cell_type": "code",
   "execution_count": 41,
   "id": "d707c3e9",
   "metadata": {},
   "outputs": [
    {
     "data": {
      "text/plain": [
       "<div class=\"contents_box02\">\n",
       "<div id=\"contents_logo_05\"></div><div class=\"contents_mine_tx02\"><span class=\"font_black15\">112/6/30 第112000064期 </span><span class=\"font_red14\"><a href=\"Result_all.aspx#08\">開獎結果</a></span></div><div class=\"contents_mine_tx04\">開出順序<br/>大小順序</div><div class=\"ball_tx ball_yellow\">26 </div><div class=\"ball_tx ball_yellow\">06 </div><div class=\"ball_tx ball_yellow\">22 </div><div class=\"ball_tx ball_yellow\">29 </div><div class=\"ball_tx ball_yellow\">32 </div><div class=\"ball_tx ball_yellow\">43 </div><div class=\"ball_tx ball_yellow\">06 </div><div class=\"ball_tx ball_yellow\">22 </div><div class=\"ball_tx ball_yellow\">26 </div><div class=\"ball_tx ball_yellow\">29 </div><div class=\"ball_tx ball_yellow\">32 </div><div class=\"ball_tx ball_yellow\">43 </div>\n",
       "</div>"
      ]
     },
     "execution_count": 41,
     "metadata": {},
     "output_type": "execute_result"
    }
   ],
   "source": [
    "soup2[3]"
   ]
  },
  {
   "cell_type": "markdown",
   "id": "7f90d592",
   "metadata": {},
   "source": [
    "### 另解"
   ]
  },
  {
   "cell_type": "code",
   "execution_count": 44,
   "id": "1a1980d5",
   "metadata": {},
   "outputs": [
    {
     "data": {
      "text/plain": [
       "<div class=\"contents_box02\">\n",
       "<div id=\"contents_logo_02\"></div><div class=\"contents_mine_tx02\"><span class=\"font_black15\">112/6/29 第112000052期 </span><span class=\"font_red14\"><a href=\"Result_all.aspx#01\">開獎結果</a></span></div><div class=\"contents_mine_tx04\">開出順序<br/>大小順序<br/>第二區</div><div class=\"ball_tx ball_green\">36 </div><div class=\"ball_tx ball_green\">27 </div><div class=\"ball_tx ball_green\">26 </div><div class=\"ball_tx ball_green\">29 </div><div class=\"ball_tx ball_green\">08 </div><div class=\"ball_tx ball_green\">01 </div><div class=\"ball_tx ball_green\">01 </div><div class=\"ball_tx ball_green\">08 </div><div class=\"ball_tx ball_green\">26 </div><div class=\"ball_tx ball_green\">27 </div><div class=\"ball_tx ball_green\">29 </div><div class=\"ball_tx ball_green\">36 </div><div class=\"ball_red\">02 </div>\n",
       "</div>"
      ]
     },
     "execution_count": 44,
     "metadata": {},
     "output_type": "execute_result"
    }
   ],
   "source": [
    "contents_box02 = soup.find('div',id = \"contents_logo_02\").find_parent()\n",
    "contents_box02"
   ]
  },
  {
   "cell_type": "code",
   "execution_count": 56,
   "id": "710980ef",
   "metadata": {},
   "outputs": [
    {
     "data": {
      "text/plain": [
       "{<div class=\"ball_tx ball_green\">01 </div>,\n",
       " <div class=\"ball_tx ball_green\">08 </div>,\n",
       " <div class=\"ball_tx ball_green\">26 </div>,\n",
       " <div class=\"ball_tx ball_green\">27 </div>,\n",
       " <div class=\"ball_tx ball_green\">29 </div>,\n",
       " <div class=\"ball_tx ball_green\">36 </div>}"
      ]
     },
     "execution_count": 56,
     "metadata": {},
     "output_type": "execute_result"
    }
   ],
   "source": [
    "green_ball = set(contents_box02.find_all('div',class_='ball_tx ball_green'))\n",
    "green_ball"
   ]
  },
  {
   "cell_type": "code",
   "execution_count": 106,
   "id": "27109669",
   "metadata": {},
   "outputs": [
    {
     "name": "stdout",
     "output_type": "stream",
     "text": [
      "['01', '08', '26', '27', '29', '36']\n"
     ]
    }
   ],
   "source": [
    "num = []\n",
    "for number in green_ball:\n",
    "    number1 = number.text.strip()\n",
    "#     print(number1)\n",
    "    num.append(number1)\n",
    "print(sorted(num))"
   ]
  },
  {
   "cell_type": "code",
   "execution_count": 107,
   "id": "1d016e35",
   "metadata": {},
   "outputs": [
    {
     "name": "stdout",
     "output_type": "stream",
     "text": [
      "02\n"
     ]
    }
   ],
   "source": [
    "red_ball = contents_box02.find('div',class_='ball_red').text.strip()\n",
    "print(red_ball)\n",
    "# num.append(red_ball)\n",
    "# print(num)"
   ]
  },
  {
   "cell_type": "code",
   "execution_count": 108,
   "id": "6a6aa4e1",
   "metadata": {},
   "outputs": [
    {
     "data": {
      "text/plain": [
       "'36 26 01 29 27 08'"
      ]
     },
     "execution_count": 108,
     "metadata": {},
     "output_type": "execute_result"
    }
   ],
   "source": [
    "numb=' '.join(num)\n",
    "numb"
   ]
  },
  {
   "cell_type": "code",
   "execution_count": 110,
   "id": "a609218b",
   "metadata": {},
   "outputs": [
    {
     "data": {
      "text/plain": [
       "'36 26 01 29 27 08 特別號：02'"
      ]
     },
     "execution_count": 110,
     "metadata": {},
     "output_type": "execute_result"
    }
   ],
   "source": [
    "ball = numb+' 特別號：'+red_ball\n",
    "ball"
   ]
  },
  {
   "cell_type": "code",
   "execution_count": 85,
   "id": "0d96a582",
   "metadata": {},
   "outputs": [
    {
     "data": {
      "text/plain": [
       "'112/6/29\\xa0第112000052期'"
      ]
     },
     "execution_count": 85,
     "metadata": {},
     "output_type": "execute_result"
    }
   ],
   "source": [
    "title = contents_box02.find('span',class_='font_black15').text.strip()\n",
    "title"
   ]
  },
  {
   "cell_type": "code",
   "execution_count": 89,
   "id": "c98a004c",
   "metadata": {},
   "outputs": [
    {
     "data": {
      "text/plain": [
       "'112/6/29 第112000052期'"
      ]
     },
     "execution_count": 89,
     "metadata": {},
     "output_type": "execute_result"
    }
   ],
   "source": [
    "t1 = title.replace('\\xa0',' ')\n",
    "t1"
   ]
  },
  {
   "cell_type": "code",
   "execution_count": 114,
   "id": "b00ffe0c",
   "metadata": {},
   "outputs": [
    {
     "data": {
      "text/plain": [
       "['112/6/29 第112000052期', '36 26 01 29 27 08 特別號：02']"
      ]
     },
     "execution_count": 114,
     "metadata": {},
     "output_type": "execute_result"
    }
   ],
   "source": [
    "datas = []\n",
    "datas.append(t1)\n",
    "datas.append(ball)\n",
    "datas"
   ]
  },
  {
   "cell_type": "code",
   "execution_count": 115,
   "id": "7e5752f1",
   "metadata": {},
   "outputs": [
    {
     "data": {
      "text/plain": [
       "<Response [200]>"
      ]
     },
     "execution_count": 115,
     "metadata": {},
     "output_type": "execute_result"
    }
   ],
   "source": [
    "url2 = 'https://www.taiwanlottery.com.tw/images/intx_logo01.gif'\n",
    "resp2 = requests.get(url2)\n",
    "resp2"
   ]
  },
  {
   "cell_type": "code",
   "execution_count": 117,
   "id": "54b19aeb",
   "metadata": {},
   "outputs": [
    {
     "data": {
      "text/plain": [
       "<img id=\"imgPowerLottery\" src=\"images/logo_totbox_01.jpg\"/>"
      ]
     },
     "execution_count": 117,
     "metadata": {},
     "output_type": "execute_result"
    }
   ],
   "source": [
    "soup_1 = soup.find('img',id = \"imgPowerLottery\")\n",
    "soup_1"
   ]
  },
  {
   "cell_type": "code",
   "execution_count": null,
   "id": "770d16ca",
   "metadata": {},
   "outputs": [],
   "source": []
  }
 ],
 "metadata": {
  "kernelspec": {
   "display_name": "Python 3 (ipykernel)",
   "language": "python",
   "name": "python3"
  },
  "language_info": {
   "codemirror_mode": {
    "name": "ipython",
    "version": 3
   },
   "file_extension": ".py",
   "mimetype": "text/x-python",
   "name": "python",
   "nbconvert_exporter": "python",
   "pygments_lexer": "ipython3",
   "version": "3.9.7"
  }
 },
 "nbformat": 4,
 "nbformat_minor": 5
}
